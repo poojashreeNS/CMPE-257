{
  "nbformat": 4,
  "nbformat_minor": 0,
  "metadata": {
    "colab": {
      "name": "Regression.ipynb",
      "provenance": []
    },
    "kernelspec": {
      "name": "python3",
      "display_name": "Python 3"
    },
    "language_info": {
      "name": "python"
    }
  },
  "cells": [
    {
      "cell_type": "markdown",
      "source": [
        "# **Actual delivery time Estimation**"
      ],
      "metadata": {
        "id": "6RmLKawkvGle"
      }
    },
    {
      "cell_type": "code",
      "execution_count": 2,
      "metadata": {
        "id": "4aKwUPhHOt3F"
      },
      "outputs": [],
      "source": [
        "import pandas as pd\n",
        "import numpy as np\n",
        "import random\n",
        "import matplotlib.pyplot as plt\n",
        "import seaborn as sns\n",
        "from sklearn import model_selection\n",
        "from sklearn.preprocessing import scale"
      ]
    },
    {
      "cell_type": "code",
      "source": [
        "df = pd.read_csv('/content/Brazilian_dataset_EDA_Clustering.csv')\n",
        "df_translate = pd.read_csv('/content/product_category_name_translation.csv')\n",
        "df=df.reset_index(drop=True)"
      ],
      "metadata": {
        "id": "EqtkhBx4Oy0g"
      },
      "execution_count": 13,
      "outputs": []
    },
    {
      "cell_type": "code",
      "source": [
        "df_translate.head()"
      ],
      "metadata": {
        "colab": {
          "base_uri": "https://localhost:8080/",
          "height": 206
        },
        "id": "-mXIU7oNpOzv",
        "outputId": "155d833a-b7e7-4337-90a7-2e96127fd2bd"
      },
      "execution_count": 14,
      "outputs": [
        {
          "output_type": "execute_result",
          "data": {
            "text/plain": [
              "    product_category_name product_category_name_english\n",
              "0            beleza_saude                 health_beauty\n",
              "1  informatica_acessorios         computers_accessories\n",
              "2              automotivo                          auto\n",
              "3         cama_mesa_banho                bed_bath_table\n",
              "4        moveis_decoracao               furniture_decor"
            ],
            "text/html": [
              "\n",
              "  <div id=\"df-24825bba-27d9-445e-a847-0ad8f0ee88d4\">\n",
              "    <div class=\"colab-df-container\">\n",
              "      <div>\n",
              "<style scoped>\n",
              "    .dataframe tbody tr th:only-of-type {\n",
              "        vertical-align: middle;\n",
              "    }\n",
              "\n",
              "    .dataframe tbody tr th {\n",
              "        vertical-align: top;\n",
              "    }\n",
              "\n",
              "    .dataframe thead th {\n",
              "        text-align: right;\n",
              "    }\n",
              "</style>\n",
              "<table border=\"1\" class=\"dataframe\">\n",
              "  <thead>\n",
              "    <tr style=\"text-align: right;\">\n",
              "      <th></th>\n",
              "      <th>product_category_name</th>\n",
              "      <th>product_category_name_english</th>\n",
              "    </tr>\n",
              "  </thead>\n",
              "  <tbody>\n",
              "    <tr>\n",
              "      <th>0</th>\n",
              "      <td>beleza_saude</td>\n",
              "      <td>health_beauty</td>\n",
              "    </tr>\n",
              "    <tr>\n",
              "      <th>1</th>\n",
              "      <td>informatica_acessorios</td>\n",
              "      <td>computers_accessories</td>\n",
              "    </tr>\n",
              "    <tr>\n",
              "      <th>2</th>\n",
              "      <td>automotivo</td>\n",
              "      <td>auto</td>\n",
              "    </tr>\n",
              "    <tr>\n",
              "      <th>3</th>\n",
              "      <td>cama_mesa_banho</td>\n",
              "      <td>bed_bath_table</td>\n",
              "    </tr>\n",
              "    <tr>\n",
              "      <th>4</th>\n",
              "      <td>moveis_decoracao</td>\n",
              "      <td>furniture_decor</td>\n",
              "    </tr>\n",
              "  </tbody>\n",
              "</table>\n",
              "</div>\n",
              "      <button class=\"colab-df-convert\" onclick=\"convertToInteractive('df-24825bba-27d9-445e-a847-0ad8f0ee88d4')\"\n",
              "              title=\"Convert this dataframe to an interactive table.\"\n",
              "              style=\"display:none;\">\n",
              "        \n",
              "  <svg xmlns=\"http://www.w3.org/2000/svg\" height=\"24px\"viewBox=\"0 0 24 24\"\n",
              "       width=\"24px\">\n",
              "    <path d=\"M0 0h24v24H0V0z\" fill=\"none\"/>\n",
              "    <path d=\"M18.56 5.44l.94 2.06.94-2.06 2.06-.94-2.06-.94-.94-2.06-.94 2.06-2.06.94zm-11 1L8.5 8.5l.94-2.06 2.06-.94-2.06-.94L8.5 2.5l-.94 2.06-2.06.94zm10 10l.94 2.06.94-2.06 2.06-.94-2.06-.94-.94-2.06-.94 2.06-2.06.94z\"/><path d=\"M17.41 7.96l-1.37-1.37c-.4-.4-.92-.59-1.43-.59-.52 0-1.04.2-1.43.59L10.3 9.45l-7.72 7.72c-.78.78-.78 2.05 0 2.83L4 21.41c.39.39.9.59 1.41.59.51 0 1.02-.2 1.41-.59l7.78-7.78 2.81-2.81c.8-.78.8-2.07 0-2.86zM5.41 20L4 18.59l7.72-7.72 1.47 1.35L5.41 20z\"/>\n",
              "  </svg>\n",
              "      </button>\n",
              "      \n",
              "  <style>\n",
              "    .colab-df-container {\n",
              "      display:flex;\n",
              "      flex-wrap:wrap;\n",
              "      gap: 12px;\n",
              "    }\n",
              "\n",
              "    .colab-df-convert {\n",
              "      background-color: #E8F0FE;\n",
              "      border: none;\n",
              "      border-radius: 50%;\n",
              "      cursor: pointer;\n",
              "      display: none;\n",
              "      fill: #1967D2;\n",
              "      height: 32px;\n",
              "      padding: 0 0 0 0;\n",
              "      width: 32px;\n",
              "    }\n",
              "\n",
              "    .colab-df-convert:hover {\n",
              "      background-color: #E2EBFA;\n",
              "      box-shadow: 0px 1px 2px rgba(60, 64, 67, 0.3), 0px 1px 3px 1px rgba(60, 64, 67, 0.15);\n",
              "      fill: #174EA6;\n",
              "    }\n",
              "\n",
              "    [theme=dark] .colab-df-convert {\n",
              "      background-color: #3B4455;\n",
              "      fill: #D2E3FC;\n",
              "    }\n",
              "\n",
              "    [theme=dark] .colab-df-convert:hover {\n",
              "      background-color: #434B5C;\n",
              "      box-shadow: 0px 1px 3px 1px rgba(0, 0, 0, 0.15);\n",
              "      filter: drop-shadow(0px 1px 2px rgba(0, 0, 0, 0.3));\n",
              "      fill: #FFFFFF;\n",
              "    }\n",
              "  </style>\n",
              "\n",
              "      <script>\n",
              "        const buttonEl =\n",
              "          document.querySelector('#df-24825bba-27d9-445e-a847-0ad8f0ee88d4 button.colab-df-convert');\n",
              "        buttonEl.style.display =\n",
              "          google.colab.kernel.accessAllowed ? 'block' : 'none';\n",
              "\n",
              "        async function convertToInteractive(key) {\n",
              "          const element = document.querySelector('#df-24825bba-27d9-445e-a847-0ad8f0ee88d4');\n",
              "          const dataTable =\n",
              "            await google.colab.kernel.invokeFunction('convertToInteractive',\n",
              "                                                     [key], {});\n",
              "          if (!dataTable) return;\n",
              "\n",
              "          const docLinkHtml = 'Like what you see? Visit the ' +\n",
              "            '<a target=\"_blank\" href=https://colab.research.google.com/notebooks/data_table.ipynb>data table notebook</a>'\n",
              "            + ' to learn more about interactive tables.';\n",
              "          element.innerHTML = '';\n",
              "          dataTable['output_type'] = 'display_data';\n",
              "          await google.colab.output.renderOutput(dataTable, element);\n",
              "          const docLink = document.createElement('div');\n",
              "          docLink.innerHTML = docLinkHtml;\n",
              "          element.appendChild(docLink);\n",
              "        }\n",
              "      </script>\n",
              "    </div>\n",
              "  </div>\n",
              "  "
            ]
          },
          "metadata": {},
          "execution_count": 14
        }
      ]
    },
    {
      "cell_type": "code",
      "source": [
        "df = pd.merge(df, df_translate, on='product_category_name')"
      ],
      "metadata": {
        "id": "peAoZLrJIL_G"
      },
      "execution_count": 17,
      "outputs": []
    },
    {
      "cell_type": "code",
      "source": [
        "df.head(5)"
      ],
      "metadata": {
        "colab": {
          "base_uri": "https://localhost:8080/",
          "height": 368
        },
        "id": "dhNEMwhgPPjI",
        "outputId": "9a62ece8-b1bc-44e2-e510-a8398953a031"
      },
      "execution_count": 18,
      "outputs": [
        {
          "output_type": "execute_result",
          "data": {
            "text/plain": [
              "   Unnamed: 0                          order_id  \\\n",
              "0           0  e481f51cbdc54678b7cc49136f2d6af7   \n",
              "1           1  128e10d95713541c87cd1a2e48201934   \n",
              "2           2  0e7e841ddf8f8f2de2bad69267ecfbcf   \n",
              "3           3  bfc39df4f36c3693ff3b63fcbea9e90a   \n",
              "4           4  6ea2f835b4556291ffdc53fa0b3b95e8   \n",
              "\n",
              "                        customer_id order_status order_purchase_timestamp  \\\n",
              "0  9ef432eb6251297304e76186b10a928d    delivered      2017-10-02 10:56:33   \n",
              "1  a20e8105f23924cd00833fd87daa0831    delivered      2017-08-15 18:29:31   \n",
              "2  26c7ac168e1433912a51b924fbd34d34    delivered      2017-08-02 18:24:47   \n",
              "3  53904ddbea91e1e92b2b3f1d09a7af86    delivered      2017-10-23 23:26:46   \n",
              "4  c7340080e394356141681bd4c9b8fe31    delivered      2017-11-24 21:27:48   \n",
              "\n",
              "     order_approved_at order_delivered_customer_date  \\\n",
              "0  2017-10-02 11:07:15           2017-10-10 21:25:13   \n",
              "1  2017-08-15 20:05:16           2017-08-18 14:44:43   \n",
              "2  2017-08-02 18:43:15           2017-08-07 18:30:01   \n",
              "3  2017-10-25 02:14:11           2017-11-07 18:04:59   \n",
              "4  2017-11-25 00:21:09           2017-12-28 18:59:23   \n",
              "\n",
              "  order_estimated_delivery_date  payment_sequential payment_type  ...  \\\n",
              "0           2017-10-18 00:00:00                   1  credit_card  ...   \n",
              "1           2017-08-28 00:00:00                   1  credit_card  ...   \n",
              "2           2017-08-15 00:00:00                   1  credit_card  ...   \n",
              "3           2017-11-13 00:00:00                   1       boleto  ...   \n",
              "4           2017-12-21 00:00:00                   1  credit_card  ...   \n",
              "\n",
              "   frequency  monetary f_quartile  r_quartile m_quartile RFM_Score  \\\n",
              "0          2     62.23          1           2          2       212   \n",
              "1          1     37.77          1           1          1       111   \n",
              "2          1     37.77          1           1          1       111   \n",
              "3          1     44.09          1           2          1       211   \n",
              "4          1    356.12          1           2          4       214   \n",
              "\n",
              "   RFM_Score_s           RFM_Level clusters product_category_name_english_y  \n",
              "0            5           Promising        4                      housewares  \n",
              "1            3  Require Activation        1                      housewares  \n",
              "2            3  Require Activation        1                      housewares  \n",
              "3            4     Needs Attention        1                      housewares  \n",
              "4            7               Loyal        3                      housewares  \n",
              "\n",
              "[5 rows x 56 columns]"
            ],
            "text/html": [
              "\n",
              "  <div id=\"df-0f49a83d-df0e-4584-9a62-fd7989a80a68\">\n",
              "    <div class=\"colab-df-container\">\n",
              "      <div>\n",
              "<style scoped>\n",
              "    .dataframe tbody tr th:only-of-type {\n",
              "        vertical-align: middle;\n",
              "    }\n",
              "\n",
              "    .dataframe tbody tr th {\n",
              "        vertical-align: top;\n",
              "    }\n",
              "\n",
              "    .dataframe thead th {\n",
              "        text-align: right;\n",
              "    }\n",
              "</style>\n",
              "<table border=\"1\" class=\"dataframe\">\n",
              "  <thead>\n",
              "    <tr style=\"text-align: right;\">\n",
              "      <th></th>\n",
              "      <th>Unnamed: 0</th>\n",
              "      <th>order_id</th>\n",
              "      <th>customer_id</th>\n",
              "      <th>order_status</th>\n",
              "      <th>order_purchase_timestamp</th>\n",
              "      <th>order_approved_at</th>\n",
              "      <th>order_delivered_customer_date</th>\n",
              "      <th>order_estimated_delivery_date</th>\n",
              "      <th>payment_sequential</th>\n",
              "      <th>payment_type</th>\n",
              "      <th>...</th>\n",
              "      <th>frequency</th>\n",
              "      <th>monetary</th>\n",
              "      <th>f_quartile</th>\n",
              "      <th>r_quartile</th>\n",
              "      <th>m_quartile</th>\n",
              "      <th>RFM_Score</th>\n",
              "      <th>RFM_Score_s</th>\n",
              "      <th>RFM_Level</th>\n",
              "      <th>clusters</th>\n",
              "      <th>product_category_name_english_y</th>\n",
              "    </tr>\n",
              "  </thead>\n",
              "  <tbody>\n",
              "    <tr>\n",
              "      <th>0</th>\n",
              "      <td>0</td>\n",
              "      <td>e481f51cbdc54678b7cc49136f2d6af7</td>\n",
              "      <td>9ef432eb6251297304e76186b10a928d</td>\n",
              "      <td>delivered</td>\n",
              "      <td>2017-10-02 10:56:33</td>\n",
              "      <td>2017-10-02 11:07:15</td>\n",
              "      <td>2017-10-10 21:25:13</td>\n",
              "      <td>2017-10-18 00:00:00</td>\n",
              "      <td>1</td>\n",
              "      <td>credit_card</td>\n",
              "      <td>...</td>\n",
              "      <td>2</td>\n",
              "      <td>62.23</td>\n",
              "      <td>1</td>\n",
              "      <td>2</td>\n",
              "      <td>2</td>\n",
              "      <td>212</td>\n",
              "      <td>5</td>\n",
              "      <td>Promising</td>\n",
              "      <td>4</td>\n",
              "      <td>housewares</td>\n",
              "    </tr>\n",
              "    <tr>\n",
              "      <th>1</th>\n",
              "      <td>1</td>\n",
              "      <td>128e10d95713541c87cd1a2e48201934</td>\n",
              "      <td>a20e8105f23924cd00833fd87daa0831</td>\n",
              "      <td>delivered</td>\n",
              "      <td>2017-08-15 18:29:31</td>\n",
              "      <td>2017-08-15 20:05:16</td>\n",
              "      <td>2017-08-18 14:44:43</td>\n",
              "      <td>2017-08-28 00:00:00</td>\n",
              "      <td>1</td>\n",
              "      <td>credit_card</td>\n",
              "      <td>...</td>\n",
              "      <td>1</td>\n",
              "      <td>37.77</td>\n",
              "      <td>1</td>\n",
              "      <td>1</td>\n",
              "      <td>1</td>\n",
              "      <td>111</td>\n",
              "      <td>3</td>\n",
              "      <td>Require Activation</td>\n",
              "      <td>1</td>\n",
              "      <td>housewares</td>\n",
              "    </tr>\n",
              "    <tr>\n",
              "      <th>2</th>\n",
              "      <td>2</td>\n",
              "      <td>0e7e841ddf8f8f2de2bad69267ecfbcf</td>\n",
              "      <td>26c7ac168e1433912a51b924fbd34d34</td>\n",
              "      <td>delivered</td>\n",
              "      <td>2017-08-02 18:24:47</td>\n",
              "      <td>2017-08-02 18:43:15</td>\n",
              "      <td>2017-08-07 18:30:01</td>\n",
              "      <td>2017-08-15 00:00:00</td>\n",
              "      <td>1</td>\n",
              "      <td>credit_card</td>\n",
              "      <td>...</td>\n",
              "      <td>1</td>\n",
              "      <td>37.77</td>\n",
              "      <td>1</td>\n",
              "      <td>1</td>\n",
              "      <td>1</td>\n",
              "      <td>111</td>\n",
              "      <td>3</td>\n",
              "      <td>Require Activation</td>\n",
              "      <td>1</td>\n",
              "      <td>housewares</td>\n",
              "    </tr>\n",
              "    <tr>\n",
              "      <th>3</th>\n",
              "      <td>3</td>\n",
              "      <td>bfc39df4f36c3693ff3b63fcbea9e90a</td>\n",
              "      <td>53904ddbea91e1e92b2b3f1d09a7af86</td>\n",
              "      <td>delivered</td>\n",
              "      <td>2017-10-23 23:26:46</td>\n",
              "      <td>2017-10-25 02:14:11</td>\n",
              "      <td>2017-11-07 18:04:59</td>\n",
              "      <td>2017-11-13 00:00:00</td>\n",
              "      <td>1</td>\n",
              "      <td>boleto</td>\n",
              "      <td>...</td>\n",
              "      <td>1</td>\n",
              "      <td>44.09</td>\n",
              "      <td>1</td>\n",
              "      <td>2</td>\n",
              "      <td>1</td>\n",
              "      <td>211</td>\n",
              "      <td>4</td>\n",
              "      <td>Needs Attention</td>\n",
              "      <td>1</td>\n",
              "      <td>housewares</td>\n",
              "    </tr>\n",
              "    <tr>\n",
              "      <th>4</th>\n",
              "      <td>4</td>\n",
              "      <td>6ea2f835b4556291ffdc53fa0b3b95e8</td>\n",
              "      <td>c7340080e394356141681bd4c9b8fe31</td>\n",
              "      <td>delivered</td>\n",
              "      <td>2017-11-24 21:27:48</td>\n",
              "      <td>2017-11-25 00:21:09</td>\n",
              "      <td>2017-12-28 18:59:23</td>\n",
              "      <td>2017-12-21 00:00:00</td>\n",
              "      <td>1</td>\n",
              "      <td>credit_card</td>\n",
              "      <td>...</td>\n",
              "      <td>1</td>\n",
              "      <td>356.12</td>\n",
              "      <td>1</td>\n",
              "      <td>2</td>\n",
              "      <td>4</td>\n",
              "      <td>214</td>\n",
              "      <td>7</td>\n",
              "      <td>Loyal</td>\n",
              "      <td>3</td>\n",
              "      <td>housewares</td>\n",
              "    </tr>\n",
              "  </tbody>\n",
              "</table>\n",
              "<p>5 rows × 56 columns</p>\n",
              "</div>\n",
              "      <button class=\"colab-df-convert\" onclick=\"convertToInteractive('df-0f49a83d-df0e-4584-9a62-fd7989a80a68')\"\n",
              "              title=\"Convert this dataframe to an interactive table.\"\n",
              "              style=\"display:none;\">\n",
              "        \n",
              "  <svg xmlns=\"http://www.w3.org/2000/svg\" height=\"24px\"viewBox=\"0 0 24 24\"\n",
              "       width=\"24px\">\n",
              "    <path d=\"M0 0h24v24H0V0z\" fill=\"none\"/>\n",
              "    <path d=\"M18.56 5.44l.94 2.06.94-2.06 2.06-.94-2.06-.94-.94-2.06-.94 2.06-2.06.94zm-11 1L8.5 8.5l.94-2.06 2.06-.94-2.06-.94L8.5 2.5l-.94 2.06-2.06.94zm10 10l.94 2.06.94-2.06 2.06-.94-2.06-.94-.94-2.06-.94 2.06-2.06.94z\"/><path d=\"M17.41 7.96l-1.37-1.37c-.4-.4-.92-.59-1.43-.59-.52 0-1.04.2-1.43.59L10.3 9.45l-7.72 7.72c-.78.78-.78 2.05 0 2.83L4 21.41c.39.39.9.59 1.41.59.51 0 1.02-.2 1.41-.59l7.78-7.78 2.81-2.81c.8-.78.8-2.07 0-2.86zM5.41 20L4 18.59l7.72-7.72 1.47 1.35L5.41 20z\"/>\n",
              "  </svg>\n",
              "      </button>\n",
              "      \n",
              "  <style>\n",
              "    .colab-df-container {\n",
              "      display:flex;\n",
              "      flex-wrap:wrap;\n",
              "      gap: 12px;\n",
              "    }\n",
              "\n",
              "    .colab-df-convert {\n",
              "      background-color: #E8F0FE;\n",
              "      border: none;\n",
              "      border-radius: 50%;\n",
              "      cursor: pointer;\n",
              "      display: none;\n",
              "      fill: #1967D2;\n",
              "      height: 32px;\n",
              "      padding: 0 0 0 0;\n",
              "      width: 32px;\n",
              "    }\n",
              "\n",
              "    .colab-df-convert:hover {\n",
              "      background-color: #E2EBFA;\n",
              "      box-shadow: 0px 1px 2px rgba(60, 64, 67, 0.3), 0px 1px 3px 1px rgba(60, 64, 67, 0.15);\n",
              "      fill: #174EA6;\n",
              "    }\n",
              "\n",
              "    [theme=dark] .colab-df-convert {\n",
              "      background-color: #3B4455;\n",
              "      fill: #D2E3FC;\n",
              "    }\n",
              "\n",
              "    [theme=dark] .colab-df-convert:hover {\n",
              "      background-color: #434B5C;\n",
              "      box-shadow: 0px 1px 3px 1px rgba(0, 0, 0, 0.15);\n",
              "      filter: drop-shadow(0px 1px 2px rgba(0, 0, 0, 0.3));\n",
              "      fill: #FFFFFF;\n",
              "    }\n",
              "  </style>\n",
              "\n",
              "      <script>\n",
              "        const buttonEl =\n",
              "          document.querySelector('#df-0f49a83d-df0e-4584-9a62-fd7989a80a68 button.colab-df-convert');\n",
              "        buttonEl.style.display =\n",
              "          google.colab.kernel.accessAllowed ? 'block' : 'none';\n",
              "\n",
              "        async function convertToInteractive(key) {\n",
              "          const element = document.querySelector('#df-0f49a83d-df0e-4584-9a62-fd7989a80a68');\n",
              "          const dataTable =\n",
              "            await google.colab.kernel.invokeFunction('convertToInteractive',\n",
              "                                                     [key], {});\n",
              "          if (!dataTable) return;\n",
              "\n",
              "          const docLinkHtml = 'Like what you see? Visit the ' +\n",
              "            '<a target=\"_blank\" href=https://colab.research.google.com/notebooks/data_table.ipynb>data table notebook</a>'\n",
              "            + ' to learn more about interactive tables.';\n",
              "          element.innerHTML = '';\n",
              "          dataTable['output_type'] = 'display_data';\n",
              "          await google.colab.output.renderOutput(dataTable, element);\n",
              "          const docLink = document.createElement('div');\n",
              "          docLink.innerHTML = docLinkHtml;\n",
              "          element.appendChild(docLink);\n",
              "        }\n",
              "      </script>\n",
              "    </div>\n",
              "  </div>\n",
              "  "
            ]
          },
          "metadata": {},
          "execution_count": 18
        }
      ]
    },
    {
      "cell_type": "code",
      "source": [
        "#DROP COLUMNS THAT ARE NOT NEEDED\n",
        "\n",
        "df_regression = df[['order_id','product_id', 'customer_id', 'order_status', 'price', 'freight_value', \n",
        "         'order_purchase_timestamp', 'order_approved_at', 'order_estimated_delivery_date', 'order_delivered_customer_date',\n",
        "        'customer_state', 'product_description_lenght', 'product_photos_qty', 'review_score', 'product_category_name_english_y']]\n"
      ],
      "metadata": {
        "id": "jeesT9TTO-U5"
      },
      "execution_count": 20,
      "outputs": []
    },
    {
      "cell_type": "code",
      "source": [
        "df_regression.head()"
      ],
      "metadata": {
        "colab": {
          "base_uri": "https://localhost:8080/",
          "height": 270
        },
        "id": "kBNhuP1PPLKH",
        "outputId": "065c6f24-4686-4766-c7c4-55219fc0a7ed"
      },
      "execution_count": 21,
      "outputs": [
        {
          "output_type": "execute_result",
          "data": {
            "text/plain": [
              "                           order_id                        product_id  \\\n",
              "0  e481f51cbdc54678b7cc49136f2d6af7  87285b34884572647811a353c7ac498a   \n",
              "1  128e10d95713541c87cd1a2e48201934  87285b34884572647811a353c7ac498a   \n",
              "2  0e7e841ddf8f8f2de2bad69267ecfbcf  87285b34884572647811a353c7ac498a   \n",
              "3  bfc39df4f36c3693ff3b63fcbea9e90a  87285b34884572647811a353c7ac498a   \n",
              "4  6ea2f835b4556291ffdc53fa0b3b95e8  be021417a6acb56b9b50d3fd2714baa8   \n",
              "\n",
              "                        customer_id order_status   price  freight_value  \\\n",
              "0  9ef432eb6251297304e76186b10a928d    delivered   29.99           8.72   \n",
              "1  a20e8105f23924cd00833fd87daa0831    delivered   29.99           7.78   \n",
              "2  26c7ac168e1433912a51b924fbd34d34    delivered   29.99           7.78   \n",
              "3  53904ddbea91e1e92b2b3f1d09a7af86    delivered   29.99          14.10   \n",
              "4  c7340080e394356141681bd4c9b8fe31    delivered  339.00          17.12   \n",
              "\n",
              "  order_purchase_timestamp    order_approved_at order_estimated_delivery_date  \\\n",
              "0      2017-10-02 10:56:33  2017-10-02 11:07:15           2017-10-18 00:00:00   \n",
              "1      2017-08-15 18:29:31  2017-08-15 20:05:16           2017-08-28 00:00:00   \n",
              "2      2017-08-02 18:24:47  2017-08-02 18:43:15           2017-08-15 00:00:00   \n",
              "3      2017-10-23 23:26:46  2017-10-25 02:14:11           2017-11-13 00:00:00   \n",
              "4      2017-11-24 21:27:48  2017-11-25 00:21:09           2017-12-21 00:00:00   \n",
              "\n",
              "  order_delivered_customer_date customer_state  product_description_lenght  \\\n",
              "0           2017-10-10 21:25:13             SP                       268.0   \n",
              "1           2017-08-18 14:44:43             SP                       268.0   \n",
              "2           2017-08-07 18:30:01             SP                       268.0   \n",
              "3           2017-11-07 18:04:59             SC                       268.0   \n",
              "4           2017-12-28 18:59:23             SP                       664.0   \n",
              "\n",
              "   product_photos_qty  review_score product_category_name_english_y  \n",
              "0                 4.0             1                      housewares  \n",
              "1                 4.0             1                      housewares  \n",
              "2                 4.0             1                      housewares  \n",
              "3                 4.0             1                      housewares  \n",
              "4                 6.0             0                      housewares  "
            ],
            "text/html": [
              "\n",
              "  <div id=\"df-edd413cf-1a64-49dd-a0f4-08a0483a24bc\">\n",
              "    <div class=\"colab-df-container\">\n",
              "      <div>\n",
              "<style scoped>\n",
              "    .dataframe tbody tr th:only-of-type {\n",
              "        vertical-align: middle;\n",
              "    }\n",
              "\n",
              "    .dataframe tbody tr th {\n",
              "        vertical-align: top;\n",
              "    }\n",
              "\n",
              "    .dataframe thead th {\n",
              "        text-align: right;\n",
              "    }\n",
              "</style>\n",
              "<table border=\"1\" class=\"dataframe\">\n",
              "  <thead>\n",
              "    <tr style=\"text-align: right;\">\n",
              "      <th></th>\n",
              "      <th>order_id</th>\n",
              "      <th>product_id</th>\n",
              "      <th>customer_id</th>\n",
              "      <th>order_status</th>\n",
              "      <th>price</th>\n",
              "      <th>freight_value</th>\n",
              "      <th>order_purchase_timestamp</th>\n",
              "      <th>order_approved_at</th>\n",
              "      <th>order_estimated_delivery_date</th>\n",
              "      <th>order_delivered_customer_date</th>\n",
              "      <th>customer_state</th>\n",
              "      <th>product_description_lenght</th>\n",
              "      <th>product_photos_qty</th>\n",
              "      <th>review_score</th>\n",
              "      <th>product_category_name_english_y</th>\n",
              "    </tr>\n",
              "  </thead>\n",
              "  <tbody>\n",
              "    <tr>\n",
              "      <th>0</th>\n",
              "      <td>e481f51cbdc54678b7cc49136f2d6af7</td>\n",
              "      <td>87285b34884572647811a353c7ac498a</td>\n",
              "      <td>9ef432eb6251297304e76186b10a928d</td>\n",
              "      <td>delivered</td>\n",
              "      <td>29.99</td>\n",
              "      <td>8.72</td>\n",
              "      <td>2017-10-02 10:56:33</td>\n",
              "      <td>2017-10-02 11:07:15</td>\n",
              "      <td>2017-10-18 00:00:00</td>\n",
              "      <td>2017-10-10 21:25:13</td>\n",
              "      <td>SP</td>\n",
              "      <td>268.0</td>\n",
              "      <td>4.0</td>\n",
              "      <td>1</td>\n",
              "      <td>housewares</td>\n",
              "    </tr>\n",
              "    <tr>\n",
              "      <th>1</th>\n",
              "      <td>128e10d95713541c87cd1a2e48201934</td>\n",
              "      <td>87285b34884572647811a353c7ac498a</td>\n",
              "      <td>a20e8105f23924cd00833fd87daa0831</td>\n",
              "      <td>delivered</td>\n",
              "      <td>29.99</td>\n",
              "      <td>7.78</td>\n",
              "      <td>2017-08-15 18:29:31</td>\n",
              "      <td>2017-08-15 20:05:16</td>\n",
              "      <td>2017-08-28 00:00:00</td>\n",
              "      <td>2017-08-18 14:44:43</td>\n",
              "      <td>SP</td>\n",
              "      <td>268.0</td>\n",
              "      <td>4.0</td>\n",
              "      <td>1</td>\n",
              "      <td>housewares</td>\n",
              "    </tr>\n",
              "    <tr>\n",
              "      <th>2</th>\n",
              "      <td>0e7e841ddf8f8f2de2bad69267ecfbcf</td>\n",
              "      <td>87285b34884572647811a353c7ac498a</td>\n",
              "      <td>26c7ac168e1433912a51b924fbd34d34</td>\n",
              "      <td>delivered</td>\n",
              "      <td>29.99</td>\n",
              "      <td>7.78</td>\n",
              "      <td>2017-08-02 18:24:47</td>\n",
              "      <td>2017-08-02 18:43:15</td>\n",
              "      <td>2017-08-15 00:00:00</td>\n",
              "      <td>2017-08-07 18:30:01</td>\n",
              "      <td>SP</td>\n",
              "      <td>268.0</td>\n",
              "      <td>4.0</td>\n",
              "      <td>1</td>\n",
              "      <td>housewares</td>\n",
              "    </tr>\n",
              "    <tr>\n",
              "      <th>3</th>\n",
              "      <td>bfc39df4f36c3693ff3b63fcbea9e90a</td>\n",
              "      <td>87285b34884572647811a353c7ac498a</td>\n",
              "      <td>53904ddbea91e1e92b2b3f1d09a7af86</td>\n",
              "      <td>delivered</td>\n",
              "      <td>29.99</td>\n",
              "      <td>14.10</td>\n",
              "      <td>2017-10-23 23:26:46</td>\n",
              "      <td>2017-10-25 02:14:11</td>\n",
              "      <td>2017-11-13 00:00:00</td>\n",
              "      <td>2017-11-07 18:04:59</td>\n",
              "      <td>SC</td>\n",
              "      <td>268.0</td>\n",
              "      <td>4.0</td>\n",
              "      <td>1</td>\n",
              "      <td>housewares</td>\n",
              "    </tr>\n",
              "    <tr>\n",
              "      <th>4</th>\n",
              "      <td>6ea2f835b4556291ffdc53fa0b3b95e8</td>\n",
              "      <td>be021417a6acb56b9b50d3fd2714baa8</td>\n",
              "      <td>c7340080e394356141681bd4c9b8fe31</td>\n",
              "      <td>delivered</td>\n",
              "      <td>339.00</td>\n",
              "      <td>17.12</td>\n",
              "      <td>2017-11-24 21:27:48</td>\n",
              "      <td>2017-11-25 00:21:09</td>\n",
              "      <td>2017-12-21 00:00:00</td>\n",
              "      <td>2017-12-28 18:59:23</td>\n",
              "      <td>SP</td>\n",
              "      <td>664.0</td>\n",
              "      <td>6.0</td>\n",
              "      <td>0</td>\n",
              "      <td>housewares</td>\n",
              "    </tr>\n",
              "  </tbody>\n",
              "</table>\n",
              "</div>\n",
              "      <button class=\"colab-df-convert\" onclick=\"convertToInteractive('df-edd413cf-1a64-49dd-a0f4-08a0483a24bc')\"\n",
              "              title=\"Convert this dataframe to an interactive table.\"\n",
              "              style=\"display:none;\">\n",
              "        \n",
              "  <svg xmlns=\"http://www.w3.org/2000/svg\" height=\"24px\"viewBox=\"0 0 24 24\"\n",
              "       width=\"24px\">\n",
              "    <path d=\"M0 0h24v24H0V0z\" fill=\"none\"/>\n",
              "    <path d=\"M18.56 5.44l.94 2.06.94-2.06 2.06-.94-2.06-.94-.94-2.06-.94 2.06-2.06.94zm-11 1L8.5 8.5l.94-2.06 2.06-.94-2.06-.94L8.5 2.5l-.94 2.06-2.06.94zm10 10l.94 2.06.94-2.06 2.06-.94-2.06-.94-.94-2.06-.94 2.06-2.06.94z\"/><path d=\"M17.41 7.96l-1.37-1.37c-.4-.4-.92-.59-1.43-.59-.52 0-1.04.2-1.43.59L10.3 9.45l-7.72 7.72c-.78.78-.78 2.05 0 2.83L4 21.41c.39.39.9.59 1.41.59.51 0 1.02-.2 1.41-.59l7.78-7.78 2.81-2.81c.8-.78.8-2.07 0-2.86zM5.41 20L4 18.59l7.72-7.72 1.47 1.35L5.41 20z\"/>\n",
              "  </svg>\n",
              "      </button>\n",
              "      \n",
              "  <style>\n",
              "    .colab-df-container {\n",
              "      display:flex;\n",
              "      flex-wrap:wrap;\n",
              "      gap: 12px;\n",
              "    }\n",
              "\n",
              "    .colab-df-convert {\n",
              "      background-color: #E8F0FE;\n",
              "      border: none;\n",
              "      border-radius: 50%;\n",
              "      cursor: pointer;\n",
              "      display: none;\n",
              "      fill: #1967D2;\n",
              "      height: 32px;\n",
              "      padding: 0 0 0 0;\n",
              "      width: 32px;\n",
              "    }\n",
              "\n",
              "    .colab-df-convert:hover {\n",
              "      background-color: #E2EBFA;\n",
              "      box-shadow: 0px 1px 2px rgba(60, 64, 67, 0.3), 0px 1px 3px 1px rgba(60, 64, 67, 0.15);\n",
              "      fill: #174EA6;\n",
              "    }\n",
              "\n",
              "    [theme=dark] .colab-df-convert {\n",
              "      background-color: #3B4455;\n",
              "      fill: #D2E3FC;\n",
              "    }\n",
              "\n",
              "    [theme=dark] .colab-df-convert:hover {\n",
              "      background-color: #434B5C;\n",
              "      box-shadow: 0px 1px 3px 1px rgba(0, 0, 0, 0.15);\n",
              "      filter: drop-shadow(0px 1px 2px rgba(0, 0, 0, 0.3));\n",
              "      fill: #FFFFFF;\n",
              "    }\n",
              "  </style>\n",
              "\n",
              "      <script>\n",
              "        const buttonEl =\n",
              "          document.querySelector('#df-edd413cf-1a64-49dd-a0f4-08a0483a24bc button.colab-df-convert');\n",
              "        buttonEl.style.display =\n",
              "          google.colab.kernel.accessAllowed ? 'block' : 'none';\n",
              "\n",
              "        async function convertToInteractive(key) {\n",
              "          const element = document.querySelector('#df-edd413cf-1a64-49dd-a0f4-08a0483a24bc');\n",
              "          const dataTable =\n",
              "            await google.colab.kernel.invokeFunction('convertToInteractive',\n",
              "                                                     [key], {});\n",
              "          if (!dataTable) return;\n",
              "\n",
              "          const docLinkHtml = 'Like what you see? Visit the ' +\n",
              "            '<a target=\"_blank\" href=https://colab.research.google.com/notebooks/data_table.ipynb>data table notebook</a>'\n",
              "            + ' to learn more about interactive tables.';\n",
              "          element.innerHTML = '';\n",
              "          dataTable['output_type'] = 'display_data';\n",
              "          await google.colab.output.renderOutput(dataTable, element);\n",
              "          const docLink = document.createElement('div');\n",
              "          docLink.innerHTML = docLinkHtml;\n",
              "          element.appendChild(docLink);\n",
              "        }\n",
              "      </script>\n",
              "    </div>\n",
              "  </div>\n",
              "  "
            ]
          },
          "metadata": {},
          "execution_count": 21
        }
      ]
    },
    {
      "cell_type": "markdown",
      "source": [
        "### **Target Variable Creation : delivery Time**"
      ],
      "metadata": {
        "id": "69kzos_VPeqt"
      }
    },
    {
      "cell_type": "code",
      "source": [
        "df_regression['order_purchase_timestamp'] = pd.to_datetime(df_regression['order_purchase_timestamp'])\n",
        "df_regression['order_approved_at'] = pd.to_datetime(df_regression['order_approved_at'])\n",
        "df_regression['order_estimated_delivery_date'] = pd.to_datetime(df_regression['order_estimated_delivery_date'])\n",
        "df_regression['order_delivered_customer_date'] = pd.to_datetime(df_regression['order_delivered_customer_date'])"
      ],
      "metadata": {
        "colab": {
          "base_uri": "https://localhost:8080/"
        },
        "id": "EC3F5OA7hTVb",
        "outputId": "9f1a95bf-1a4a-4132-b762-ee3c52423e38"
      },
      "execution_count": 22,
      "outputs": [
        {
          "output_type": "stream",
          "name": "stderr",
          "text": [
            "/usr/local/lib/python3.7/dist-packages/ipykernel_launcher.py:1: SettingWithCopyWarning: \n",
            "A value is trying to be set on a copy of a slice from a DataFrame.\n",
            "Try using .loc[row_indexer,col_indexer] = value instead\n",
            "\n",
            "See the caveats in the documentation: https://pandas.pydata.org/pandas-docs/stable/user_guide/indexing.html#returning-a-view-versus-a-copy\n",
            "  \"\"\"Entry point for launching an IPython kernel.\n",
            "/usr/local/lib/python3.7/dist-packages/ipykernel_launcher.py:2: SettingWithCopyWarning: \n",
            "A value is trying to be set on a copy of a slice from a DataFrame.\n",
            "Try using .loc[row_indexer,col_indexer] = value instead\n",
            "\n",
            "See the caveats in the documentation: https://pandas.pydata.org/pandas-docs/stable/user_guide/indexing.html#returning-a-view-versus-a-copy\n",
            "  \n",
            "/usr/local/lib/python3.7/dist-packages/ipykernel_launcher.py:3: SettingWithCopyWarning: \n",
            "A value is trying to be set on a copy of a slice from a DataFrame.\n",
            "Try using .loc[row_indexer,col_indexer] = value instead\n",
            "\n",
            "See the caveats in the documentation: https://pandas.pydata.org/pandas-docs/stable/user_guide/indexing.html#returning-a-view-versus-a-copy\n",
            "  This is separate from the ipykernel package so we can avoid doing imports until\n",
            "/usr/local/lib/python3.7/dist-packages/ipykernel_launcher.py:4: SettingWithCopyWarning: \n",
            "A value is trying to be set on a copy of a slice from a DataFrame.\n",
            "Try using .loc[row_indexer,col_indexer] = value instead\n",
            "\n",
            "See the caveats in the documentation: https://pandas.pydata.org/pandas-docs/stable/user_guide/indexing.html#returning-a-view-versus-a-copy\n",
            "  after removing the cwd from sys.path.\n"
          ]
        }
      ]
    },
    {
      "cell_type": "code",
      "source": [
        "# Days Estimated Delivery Time\n",
        "df_regression['estimated_delivery_time'] = (df_regression.loc[:,'order_estimated_delivery_date'] - df_regression.loc[:,'order_approved_at'])\n",
        "df_regression['estimated_delivery_time'] = df_regression['estimated_delivery_time'].dt.days\n",
        "df_regression['estimated_delivery_time'].head()"
      ],
      "metadata": {
        "colab": {
          "base_uri": "https://localhost:8080/"
        },
        "id": "ced8iC-NPaoY",
        "outputId": "64fddf2e-0db5-4a24-984c-73d36e388871"
      },
      "execution_count": 23,
      "outputs": [
        {
          "output_type": "stream",
          "name": "stderr",
          "text": [
            "/usr/local/lib/python3.7/dist-packages/ipykernel_launcher.py:2: SettingWithCopyWarning: \n",
            "A value is trying to be set on a copy of a slice from a DataFrame.\n",
            "Try using .loc[row_indexer,col_indexer] = value instead\n",
            "\n",
            "See the caveats in the documentation: https://pandas.pydata.org/pandas-docs/stable/user_guide/indexing.html#returning-a-view-versus-a-copy\n",
            "  \n",
            "/usr/local/lib/python3.7/dist-packages/ipykernel_launcher.py:3: SettingWithCopyWarning: \n",
            "A value is trying to be set on a copy of a slice from a DataFrame.\n",
            "Try using .loc[row_indexer,col_indexer] = value instead\n",
            "\n",
            "See the caveats in the documentation: https://pandas.pydata.org/pandas-docs/stable/user_guide/indexing.html#returning-a-view-versus-a-copy\n",
            "  This is separate from the ipykernel package so we can avoid doing imports until\n"
          ]
        },
        {
          "output_type": "execute_result",
          "data": {
            "text/plain": [
              "0    15\n",
              "1    12\n",
              "2    12\n",
              "3    18\n",
              "4    25\n",
              "Name: estimated_delivery_time, dtype: int64"
            ]
          },
          "metadata": {},
          "execution_count": 23
        }
      ]
    },
    {
      "cell_type": "code",
      "source": [
        "# Days Actual Delivery Time\n",
        "df_regression['actual_delivery_time'] = (df_regression.loc[:,'order_delivered_customer_date'] - df_regression.loc[:,'order_approved_at'])\n",
        "df_regression['actual_delivery_time'] = df_regression['actual_delivery_time'].dt.days\n",
        "df_regression['actual_delivery_time'].head()"
      ],
      "metadata": {
        "colab": {
          "base_uri": "https://localhost:8080/"
        },
        "id": "U-q70Kr_VqOR",
        "outputId": "4ebc1b1f-5faa-4698-fc36-cdded70a1925"
      },
      "execution_count": 24,
      "outputs": [
        {
          "output_type": "stream",
          "name": "stderr",
          "text": [
            "/usr/local/lib/python3.7/dist-packages/ipykernel_launcher.py:2: SettingWithCopyWarning: \n",
            "A value is trying to be set on a copy of a slice from a DataFrame.\n",
            "Try using .loc[row_indexer,col_indexer] = value instead\n",
            "\n",
            "See the caveats in the documentation: https://pandas.pydata.org/pandas-docs/stable/user_guide/indexing.html#returning-a-view-versus-a-copy\n",
            "  \n",
            "/usr/local/lib/python3.7/dist-packages/ipykernel_launcher.py:3: SettingWithCopyWarning: \n",
            "A value is trying to be set on a copy of a slice from a DataFrame.\n",
            "Try using .loc[row_indexer,col_indexer] = value instead\n",
            "\n",
            "See the caveats in the documentation: https://pandas.pydata.org/pandas-docs/stable/user_guide/indexing.html#returning-a-view-versus-a-copy\n",
            "  This is separate from the ipykernel package so we can avoid doing imports until\n"
          ]
        },
        {
          "output_type": "execute_result",
          "data": {
            "text/plain": [
              "0     8\n",
              "1     2\n",
              "2     4\n",
              "3    13\n",
              "4    33\n",
              "Name: actual_delivery_time, dtype: int64"
            ]
          },
          "metadata": {},
          "execution_count": 24
        }
      ]
    },
    {
      "cell_type": "markdown",
      "source": [
        "Only taking values greater than 0 as the least number of days it takes to deliver an order should be 1"
      ],
      "metadata": {
        "id": "i4J8FJicWDv_"
      }
    },
    {
      "cell_type": "code",
      "source": [
        "df_regression = df_regression.loc[df_regression['estimated_delivery_time'] > 0]\n",
        "df_regression = df_regression.loc[df_regression['actual_delivery_time'] > 0]"
      ],
      "metadata": {
        "id": "9jU9YYAZWExV"
      },
      "execution_count": 25,
      "outputs": []
    },
    {
      "cell_type": "markdown",
      "source": [
        "Dropping other datetime features"
      ],
      "metadata": {
        "id": "Bgw7sUD-XKrN"
      }
    },
    {
      "cell_type": "code",
      "source": [
        "cols2drop = ['order_purchase_timestamp', 'order_approved_at', 'order_estimated_delivery_date', 'order_delivered_customer_date']\n",
        "df_regression.drop(cols2drop, axis=1, inplace=True)\n",
        "df_regression.head()"
      ],
      "metadata": {
        "colab": {
          "base_uri": "https://localhost:8080/",
          "height": 270
        },
        "id": "q65PL-gbXIjl",
        "outputId": "5da0d8f4-6630-4f7f-a6a8-957f2d7034d9"
      },
      "execution_count": 26,
      "outputs": [
        {
          "output_type": "execute_result",
          "data": {
            "text/plain": [
              "                           order_id                        product_id  \\\n",
              "0  e481f51cbdc54678b7cc49136f2d6af7  87285b34884572647811a353c7ac498a   \n",
              "1  128e10d95713541c87cd1a2e48201934  87285b34884572647811a353c7ac498a   \n",
              "2  0e7e841ddf8f8f2de2bad69267ecfbcf  87285b34884572647811a353c7ac498a   \n",
              "3  bfc39df4f36c3693ff3b63fcbea9e90a  87285b34884572647811a353c7ac498a   \n",
              "4  6ea2f835b4556291ffdc53fa0b3b95e8  be021417a6acb56b9b50d3fd2714baa8   \n",
              "\n",
              "                        customer_id order_status   price  freight_value  \\\n",
              "0  9ef432eb6251297304e76186b10a928d    delivered   29.99           8.72   \n",
              "1  a20e8105f23924cd00833fd87daa0831    delivered   29.99           7.78   \n",
              "2  26c7ac168e1433912a51b924fbd34d34    delivered   29.99           7.78   \n",
              "3  53904ddbea91e1e92b2b3f1d09a7af86    delivered   29.99          14.10   \n",
              "4  c7340080e394356141681bd4c9b8fe31    delivered  339.00          17.12   \n",
              "\n",
              "  customer_state  product_description_lenght  product_photos_qty  \\\n",
              "0             SP                       268.0                 4.0   \n",
              "1             SP                       268.0                 4.0   \n",
              "2             SP                       268.0                 4.0   \n",
              "3             SC                       268.0                 4.0   \n",
              "4             SP                       664.0                 6.0   \n",
              "\n",
              "   review_score product_category_name_english_y  estimated_delivery_time  \\\n",
              "0             1                      housewares                       15   \n",
              "1             1                      housewares                       12   \n",
              "2             1                      housewares                       12   \n",
              "3             1                      housewares                       18   \n",
              "4             0                      housewares                       25   \n",
              "\n",
              "   actual_delivery_time  \n",
              "0                     8  \n",
              "1                     2  \n",
              "2                     4  \n",
              "3                    13  \n",
              "4                    33  "
            ],
            "text/html": [
              "\n",
              "  <div id=\"df-745d011e-1398-4632-9d83-f0d31c6a724c\">\n",
              "    <div class=\"colab-df-container\">\n",
              "      <div>\n",
              "<style scoped>\n",
              "    .dataframe tbody tr th:only-of-type {\n",
              "        vertical-align: middle;\n",
              "    }\n",
              "\n",
              "    .dataframe tbody tr th {\n",
              "        vertical-align: top;\n",
              "    }\n",
              "\n",
              "    .dataframe thead th {\n",
              "        text-align: right;\n",
              "    }\n",
              "</style>\n",
              "<table border=\"1\" class=\"dataframe\">\n",
              "  <thead>\n",
              "    <tr style=\"text-align: right;\">\n",
              "      <th></th>\n",
              "      <th>order_id</th>\n",
              "      <th>product_id</th>\n",
              "      <th>customer_id</th>\n",
              "      <th>order_status</th>\n",
              "      <th>price</th>\n",
              "      <th>freight_value</th>\n",
              "      <th>customer_state</th>\n",
              "      <th>product_description_lenght</th>\n",
              "      <th>product_photos_qty</th>\n",
              "      <th>review_score</th>\n",
              "      <th>product_category_name_english_y</th>\n",
              "      <th>estimated_delivery_time</th>\n",
              "      <th>actual_delivery_time</th>\n",
              "    </tr>\n",
              "  </thead>\n",
              "  <tbody>\n",
              "    <tr>\n",
              "      <th>0</th>\n",
              "      <td>e481f51cbdc54678b7cc49136f2d6af7</td>\n",
              "      <td>87285b34884572647811a353c7ac498a</td>\n",
              "      <td>9ef432eb6251297304e76186b10a928d</td>\n",
              "      <td>delivered</td>\n",
              "      <td>29.99</td>\n",
              "      <td>8.72</td>\n",
              "      <td>SP</td>\n",
              "      <td>268.0</td>\n",
              "      <td>4.0</td>\n",
              "      <td>1</td>\n",
              "      <td>housewares</td>\n",
              "      <td>15</td>\n",
              "      <td>8</td>\n",
              "    </tr>\n",
              "    <tr>\n",
              "      <th>1</th>\n",
              "      <td>128e10d95713541c87cd1a2e48201934</td>\n",
              "      <td>87285b34884572647811a353c7ac498a</td>\n",
              "      <td>a20e8105f23924cd00833fd87daa0831</td>\n",
              "      <td>delivered</td>\n",
              "      <td>29.99</td>\n",
              "      <td>7.78</td>\n",
              "      <td>SP</td>\n",
              "      <td>268.0</td>\n",
              "      <td>4.0</td>\n",
              "      <td>1</td>\n",
              "      <td>housewares</td>\n",
              "      <td>12</td>\n",
              "      <td>2</td>\n",
              "    </tr>\n",
              "    <tr>\n",
              "      <th>2</th>\n",
              "      <td>0e7e841ddf8f8f2de2bad69267ecfbcf</td>\n",
              "      <td>87285b34884572647811a353c7ac498a</td>\n",
              "      <td>26c7ac168e1433912a51b924fbd34d34</td>\n",
              "      <td>delivered</td>\n",
              "      <td>29.99</td>\n",
              "      <td>7.78</td>\n",
              "      <td>SP</td>\n",
              "      <td>268.0</td>\n",
              "      <td>4.0</td>\n",
              "      <td>1</td>\n",
              "      <td>housewares</td>\n",
              "      <td>12</td>\n",
              "      <td>4</td>\n",
              "    </tr>\n",
              "    <tr>\n",
              "      <th>3</th>\n",
              "      <td>bfc39df4f36c3693ff3b63fcbea9e90a</td>\n",
              "      <td>87285b34884572647811a353c7ac498a</td>\n",
              "      <td>53904ddbea91e1e92b2b3f1d09a7af86</td>\n",
              "      <td>delivered</td>\n",
              "      <td>29.99</td>\n",
              "      <td>14.10</td>\n",
              "      <td>SC</td>\n",
              "      <td>268.0</td>\n",
              "      <td>4.0</td>\n",
              "      <td>1</td>\n",
              "      <td>housewares</td>\n",
              "      <td>18</td>\n",
              "      <td>13</td>\n",
              "    </tr>\n",
              "    <tr>\n",
              "      <th>4</th>\n",
              "      <td>6ea2f835b4556291ffdc53fa0b3b95e8</td>\n",
              "      <td>be021417a6acb56b9b50d3fd2714baa8</td>\n",
              "      <td>c7340080e394356141681bd4c9b8fe31</td>\n",
              "      <td>delivered</td>\n",
              "      <td>339.00</td>\n",
              "      <td>17.12</td>\n",
              "      <td>SP</td>\n",
              "      <td>664.0</td>\n",
              "      <td>6.0</td>\n",
              "      <td>0</td>\n",
              "      <td>housewares</td>\n",
              "      <td>25</td>\n",
              "      <td>33</td>\n",
              "    </tr>\n",
              "  </tbody>\n",
              "</table>\n",
              "</div>\n",
              "      <button class=\"colab-df-convert\" onclick=\"convertToInteractive('df-745d011e-1398-4632-9d83-f0d31c6a724c')\"\n",
              "              title=\"Convert this dataframe to an interactive table.\"\n",
              "              style=\"display:none;\">\n",
              "        \n",
              "  <svg xmlns=\"http://www.w3.org/2000/svg\" height=\"24px\"viewBox=\"0 0 24 24\"\n",
              "       width=\"24px\">\n",
              "    <path d=\"M0 0h24v24H0V0z\" fill=\"none\"/>\n",
              "    <path d=\"M18.56 5.44l.94 2.06.94-2.06 2.06-.94-2.06-.94-.94-2.06-.94 2.06-2.06.94zm-11 1L8.5 8.5l.94-2.06 2.06-.94-2.06-.94L8.5 2.5l-.94 2.06-2.06.94zm10 10l.94 2.06.94-2.06 2.06-.94-2.06-.94-.94-2.06-.94 2.06-2.06.94z\"/><path d=\"M17.41 7.96l-1.37-1.37c-.4-.4-.92-.59-1.43-.59-.52 0-1.04.2-1.43.59L10.3 9.45l-7.72 7.72c-.78.78-.78 2.05 0 2.83L4 21.41c.39.39.9.59 1.41.59.51 0 1.02-.2 1.41-.59l7.78-7.78 2.81-2.81c.8-.78.8-2.07 0-2.86zM5.41 20L4 18.59l7.72-7.72 1.47 1.35L5.41 20z\"/>\n",
              "  </svg>\n",
              "      </button>\n",
              "      \n",
              "  <style>\n",
              "    .colab-df-container {\n",
              "      display:flex;\n",
              "      flex-wrap:wrap;\n",
              "      gap: 12px;\n",
              "    }\n",
              "\n",
              "    .colab-df-convert {\n",
              "      background-color: #E8F0FE;\n",
              "      border: none;\n",
              "      border-radius: 50%;\n",
              "      cursor: pointer;\n",
              "      display: none;\n",
              "      fill: #1967D2;\n",
              "      height: 32px;\n",
              "      padding: 0 0 0 0;\n",
              "      width: 32px;\n",
              "    }\n",
              "\n",
              "    .colab-df-convert:hover {\n",
              "      background-color: #E2EBFA;\n",
              "      box-shadow: 0px 1px 2px rgba(60, 64, 67, 0.3), 0px 1px 3px 1px rgba(60, 64, 67, 0.15);\n",
              "      fill: #174EA6;\n",
              "    }\n",
              "\n",
              "    [theme=dark] .colab-df-convert {\n",
              "      background-color: #3B4455;\n",
              "      fill: #D2E3FC;\n",
              "    }\n",
              "\n",
              "    [theme=dark] .colab-df-convert:hover {\n",
              "      background-color: #434B5C;\n",
              "      box-shadow: 0px 1px 3px 1px rgba(0, 0, 0, 0.15);\n",
              "      filter: drop-shadow(0px 1px 2px rgba(0, 0, 0, 0.3));\n",
              "      fill: #FFFFFF;\n",
              "    }\n",
              "  </style>\n",
              "\n",
              "      <script>\n",
              "        const buttonEl =\n",
              "          document.querySelector('#df-745d011e-1398-4632-9d83-f0d31c6a724c button.colab-df-convert');\n",
              "        buttonEl.style.display =\n",
              "          google.colab.kernel.accessAllowed ? 'block' : 'none';\n",
              "\n",
              "        async function convertToInteractive(key) {\n",
              "          const element = document.querySelector('#df-745d011e-1398-4632-9d83-f0d31c6a724c');\n",
              "          const dataTable =\n",
              "            await google.colab.kernel.invokeFunction('convertToInteractive',\n",
              "                                                     [key], {});\n",
              "          if (!dataTable) return;\n",
              "\n",
              "          const docLinkHtml = 'Like what you see? Visit the ' +\n",
              "            '<a target=\"_blank\" href=https://colab.research.google.com/notebooks/data_table.ipynb>data table notebook</a>'\n",
              "            + ' to learn more about interactive tables.';\n",
              "          element.innerHTML = '';\n",
              "          dataTable['output_type'] = 'display_data';\n",
              "          await google.colab.output.renderOutput(dataTable, element);\n",
              "          const docLink = document.createElement('div');\n",
              "          docLink.innerHTML = docLinkHtml;\n",
              "          element.appendChild(docLink);\n",
              "        }\n",
              "      </script>\n",
              "    </div>\n",
              "  </div>\n",
              "  "
            ]
          },
          "metadata": {},
          "execution_count": 26
        }
      ]
    },
    {
      "cell_type": "markdown",
      "source": [
        "Removing the features that will not be useful"
      ],
      "metadata": {
        "id": "PVin3m0kXXYX"
      }
    },
    {
      "cell_type": "code",
      "source": [
        "del df_regression['order_id']\n",
        "del df_regression['product_id']\n",
        "del df_regression['customer_id']\n",
        "del df_regression['order_status']"
      ],
      "metadata": {
        "id": "giJ_RA_YXUmG"
      },
      "execution_count": 27,
      "outputs": []
    },
    {
      "cell_type": "markdown",
      "source": [
        "**correlation_matrix**"
      ],
      "metadata": {
        "id": "KHVqxkUlXgJQ"
      }
    },
    {
      "cell_type": "code",
      "source": [
        "corr_matrix = df_regression.corr()\n",
        "print(corr_matrix['actual_delivery_time'].sort_values(ascending=False))\n",
        "\n",
        "fig, ax = plt.subplots(figsize=(10,8))\n",
        "hm = sns.heatmap(corr_matrix, annot = True, linewidths=.5, ax = ax)"
      ],
      "metadata": {
        "colab": {
          "base_uri": "https://localhost:8080/",
          "height": 761
        },
        "id": "wufyXjRTXb5e",
        "outputId": "2b8beca2-2559-46a5-ddf0-7e5b8e11d9af"
      },
      "execution_count": 28,
      "outputs": [
        {
          "output_type": "stream",
          "name": "stdout",
          "text": [
            "actual_delivery_time          1.000000\n",
            "estimated_delivery_time       0.398991\n",
            "freight_value                 0.211957\n",
            "price                         0.062725\n",
            "product_description_lenght    0.003891\n",
            "product_photos_qty           -0.028210\n",
            "review_score                 -0.337455\n",
            "Name: actual_delivery_time, dtype: float64\n"
          ]
        },
        {
          "output_type": "display_data",
          "data": {
            "text/plain": [
              "<Figure size 720x576 with 2 Axes>"
            ],
            "image/png": "[encoded data removed]"
          },
          "metadata": {
            "needs_background": "light"
          }
        }
      ]
    },
    {
      "cell_type": "markdown",
      "source": [
        "**Ploting histogram of features**"
      ],
      "metadata": {
        "id": "fDkjoB6EYdPq"
      }
    },
    {
      "cell_type": "code",
      "source": [
        "%matplotlib inline\n",
        "\n",
        "df_regression.hist(bins=50, figsize=(20,15))\n",
        "plt.savefig(\"attribute_histogram_plots\")\n",
        "plt.show()"
      ],
      "metadata": {
        "colab": {
          "base_uri": "https://localhost:8080/",
          "height": 878
        },
        "id": "8f2FcoFHXrkB",
        "outputId": "21dbd387-4293-4ca7-a03e-acb461f56720"
      },
      "execution_count": 29,
      "outputs": [
        {
          "output_type": "display_data",
          "data": {
            "text/plain": [
              "<Figure size 1440x1080 with 9 Axes>"
            ],
            "image/png": "[encoded data removed]"
          },
          "metadata": {
            "needs_background": "light"
          }
        }
      ]
    },
    {
      "cell_type": "markdown",
      "source": [
        "Converting price to float and checking null values"
      ],
      "metadata": {
        "id": "Iv7euesBXxX1"
      }
    },
    {
      "cell_type": "code",
      "source": [
        "df_regression['price'] = pd.to_numeric(df_regression['price'])\n",
        "df_regression = df_regression[df_regression['price'].notnull()]"
      ],
      "metadata": {
        "id": "JQg7kgJoXulO"
      },
      "execution_count": 30,
      "outputs": []
    },
    {
      "cell_type": "code",
      "source": [
        "print(\"Skewness: \\n\",df_regression.skew(),\"\\n\")\n",
        "print(\"Kurtosis: \\n\",df_regression.kurtosis(),\"\\n\")"
      ],
      "metadata": {
        "colab": {
          "base_uri": "https://localhost:8080/"
        },
        "id": "bw6kYZZcgTaq",
        "outputId": "fcd05dfc-99dc-4881-bdef-09fd29da5b18"
      },
      "execution_count": 31,
      "outputs": [
        {
          "output_type": "stream",
          "name": "stdout",
          "text": [
            "Skewness: \n",
            " price                         7.464575\n",
            "freight_value                 5.588332\n",
            "product_description_lenght    1.992794\n",
            "product_photos_qty            1.859429\n",
            "review_score                 -2.060140\n",
            "estimated_delivery_time       0.992360\n",
            "actual_delivery_time          3.660839\n",
            "dtype: float64 \n",
            "\n",
            "Kurtosis: \n",
            " price                         103.574314\n",
            "freight_value                  58.352095\n",
            "product_description_lenght      4.839593\n",
            "product_photos_qty              4.587948\n",
            "review_score                    2.244223\n",
            "estimated_delivery_time         5.306384\n",
            "actual_delivery_time           35.979139\n",
            "dtype: float64 \n",
            "\n"
          ]
        },
        {
          "output_type": "stream",
          "name": "stderr",
          "text": [
            "/usr/local/lib/python3.7/dist-packages/ipykernel_launcher.py:1: FutureWarning: Dropping of nuisance columns in DataFrame reductions (with 'numeric_only=None') is deprecated; in a future version this will raise TypeError.  Select only valid columns before calling the reduction.\n",
            "  \"\"\"Entry point for launching an IPython kernel.\n",
            "/usr/local/lib/python3.7/dist-packages/ipykernel_launcher.py:2: FutureWarning: Dropping of nuisance columns in DataFrame reductions (with 'numeric_only=None') is deprecated; in a future version this will raise TypeError.  Select only valid columns before calling the reduction.\n",
            "  \n"
          ]
        }
      ]
    },
    {
      "cell_type": "markdown",
      "source": [
        "**Performing Log transformation as data is skewed**"
      ],
      "metadata": {
        "id": "fg5U27qXYyUs"
      }
    },
    {
      "cell_type": "code",
      "source": [
        "def  plot_feature(plot_1, plot_1_title, plot_2, plot_2_title):\n",
        "  plt.figure(figsize=(12,10))\n",
        "\n",
        "  plt.subplot(221)\n",
        "  g = sns.distplot(plot_1)#df_regression['price']\n",
        "  g.set_title( plot_1_title + \"- Distribution\", fontsize=15)\n",
        "  g.set_xlabel(\"\")\n",
        "  g.set_ylabel(\"Frequency\", fontsize=12)\n",
        "\n",
        "  plt.subplot(222)\n",
        "  g1 = sns.distplot(plot_2) #df_regression['freight_value']\n",
        "  g1.set_title(plot_2_title + \"- Distribution\", fontsize=15)\n",
        "  g1.set_xlabel(\"\")\n",
        "  g1.set_ylabel(\"Frequency\", fontsize=12)"
      ],
      "metadata": {
        "id": "90FhuVRWZTqd"
      },
      "execution_count": 32,
      "outputs": []
    },
    {
      "cell_type": "markdown",
      "source": [
        "**Price and Freight value**"
      ],
      "metadata": {
        "id": "fWqTY9gHZLNb"
      }
    },
    {
      "cell_type": "code",
      "source": [
        "plot_feature(df_regression['price'], \"Product Value of Orders\", df_regression['freight_value'], \"Freight Value of Orders\")"
      ],
      "metadata": {
        "colab": {
          "base_uri": "https://localhost:8080/",
          "height": 406
        },
        "id": "xfRx_RsDX5l_",
        "outputId": "8e6e29c2-424c-40e7-a71f-d48af5bf93a8"
      },
      "execution_count": 33,
      "outputs": [
        {
          "output_type": "stream",
          "name": "stderr",
          "text": [
            "/usr/local/lib/python3.7/dist-packages/seaborn/distributions.py:2619: FutureWarning: `distplot` is a deprecated function and will be removed in a future version. Please adapt your code to use either `displot` (a figure-level function with similar flexibility) or `histplot` (an axes-level function for histograms).\n",
            "  warnings.warn(msg, FutureWarning)\n",
            "/usr/local/lib/python3.7/dist-packages/seaborn/distributions.py:2619: FutureWarning: `distplot` is a deprecated function and will be removed in a future version. Please adapt your code to use either `displot` (a figure-level function with similar flexibility) or `histplot` (an axes-level function for histograms).\n",
            "  warnings.warn(msg, FutureWarning)\n"
          ]
        },
        {
          "output_type": "display_data",
          "data": {
            "text/plain": [
              "<Figure size 864x720 with 2 Axes>"
            ],
            "image/png": "[encoded data removed]"
          },
          "metadata": {
            "needs_background": "light"
          }
        }
      ]
    },
    {
      "cell_type": "code",
      "source": [
        "df_regression['price'] = np.log1p(df_regression['price'])\n",
        "df_regression['freight_value'] = np.log1p(df_regression['freight_value'])"
      ],
      "metadata": {
        "id": "mEvsn0W6Y3Dv"
      },
      "execution_count": 34,
      "outputs": []
    },
    {
      "cell_type": "code",
      "source": [
        "plot_feature(df_regression['price'], \"Product Value of Orders\", df_regression['freight_value'], \"Freight Value of Orders\")"
      ],
      "metadata": {
        "colab": {
          "base_uri": "https://localhost:8080/",
          "height": 406
        },
        "id": "QLbyF4tOY-bj",
        "outputId": "e1b9f9ce-6b03-495f-da56-70e3b6fc4a8b"
      },
      "execution_count": 35,
      "outputs": [
        {
          "output_type": "stream",
          "name": "stderr",
          "text": [
            "/usr/local/lib/python3.7/dist-packages/seaborn/distributions.py:2619: FutureWarning: `distplot` is a deprecated function and will be removed in a future version. Please adapt your code to use either `displot` (a figure-level function with similar flexibility) or `histplot` (an axes-level function for histograms).\n",
            "  warnings.warn(msg, FutureWarning)\n",
            "/usr/local/lib/python3.7/dist-packages/seaborn/distributions.py:2619: FutureWarning: `distplot` is a deprecated function and will be removed in a future version. Please adapt your code to use either `displot` (a figure-level function with similar flexibility) or `histplot` (an axes-level function for histograms).\n",
            "  warnings.warn(msg, FutureWarning)\n"
          ]
        },
        {
          "output_type": "display_data",
          "data": {
            "text/plain": [
              "<Figure size 864x720 with 2 Axes>"
            ],
            "image/png": "[encoded data removed]"
          },
          "metadata": {
            "needs_background": "light"
          }
        }
      ]
    },
    {
      "cell_type": "markdown",
      "source": [
        "**Estimated delivery date and actual delivery date**"
      ],
      "metadata": {
        "id": "k1xALJLkaiOI"
      }
    },
    {
      "cell_type": "code",
      "source": [
        "plot_feature(df_regression['estimated_delivery_time'], \"Estimated delivery time of Orders\", df_regression['actual_delivery_time'], \"Actual delivery time of Orders\")"
      ],
      "metadata": {
        "colab": {
          "base_uri": "https://localhost:8080/",
          "height": 406
        },
        "id": "qFv-mRjbatmf",
        "outputId": "d5cf8c07-3ef7-431d-d84c-e6b12a90db9d"
      },
      "execution_count": 36,
      "outputs": [
        {
          "output_type": "stream",
          "name": "stderr",
          "text": [
            "/usr/local/lib/python3.7/dist-packages/seaborn/distributions.py:2619: FutureWarning: `distplot` is a deprecated function and will be removed in a future version. Please adapt your code to use either `displot` (a figure-level function with similar flexibility) or `histplot` (an axes-level function for histograms).\n",
            "  warnings.warn(msg, FutureWarning)\n",
            "/usr/local/lib/python3.7/dist-packages/seaborn/distributions.py:2619: FutureWarning: `distplot` is a deprecated function and will be removed in a future version. Please adapt your code to use either `displot` (a figure-level function with similar flexibility) or `histplot` (an axes-level function for histograms).\n",
            "  warnings.warn(msg, FutureWarning)\n"
          ]
        },
        {
          "output_type": "display_data",
          "data": {
            "text/plain": [
              "<Figure size 864x720 with 2 Axes>"
            ],
            "image/png": "[encoded data removed]"
          },
          "metadata": {
            "needs_background": "light"
          }
        }
      ]
    },
    {
      "cell_type": "code",
      "source": [
        "df_regression['estimated_delivery_time'] = np.log1p(df_regression['estimated_delivery_time'])\n",
        "df_regression['actual_delivery_time'] = np.log1p(df_regression['actual_delivery_time'])"
      ],
      "metadata": {
        "id": "PImQ91eBa7b1"
      },
      "execution_count": 37,
      "outputs": []
    },
    {
      "cell_type": "code",
      "source": [
        "plot_feature(df_regression['estimated_delivery_time'], \"Estimated delivery time of Orders\", df_regression['actual_delivery_time'], \"Actual delivery time of Orders\")"
      ],
      "metadata": {
        "colab": {
          "base_uri": "https://localhost:8080/",
          "height": 406
        },
        "id": "dgvsRPwMa-14",
        "outputId": "86ad035b-7852-4798-8f24-94309dd15a07"
      },
      "execution_count": 38,
      "outputs": [
        {
          "output_type": "stream",
          "name": "stderr",
          "text": [
            "/usr/local/lib/python3.7/dist-packages/seaborn/distributions.py:2619: FutureWarning: `distplot` is a deprecated function and will be removed in a future version. Please adapt your code to use either `displot` (a figure-level function with similar flexibility) or `histplot` (an axes-level function for histograms).\n",
            "  warnings.warn(msg, FutureWarning)\n",
            "/usr/local/lib/python3.7/dist-packages/seaborn/distributions.py:2619: FutureWarning: `distplot` is a deprecated function and will be removed in a future version. Please adapt your code to use either `displot` (a figure-level function with similar flexibility) or `histplot` (an axes-level function for histograms).\n",
            "  warnings.warn(msg, FutureWarning)\n"
          ]
        },
        {
          "output_type": "display_data",
          "data": {
            "text/plain": [
              "<Figure size 864x720 with 2 Axes>"
            ],
            "image/png": "[encoded data removed]"
          },
          "metadata": {
            "needs_background": "light"
          }
        }
      ]
    },
    {
      "cell_type": "code",
      "source": [
        "print(\"Skewness: \\n\",df_regression.skew(),\"\\n\")\n",
        "print(\"Kurtosis: \\n\",df_regression.kurtosis(),\"\\n\")"
      ],
      "metadata": {
        "colab": {
          "base_uri": "https://localhost:8080/"
        },
        "id": "2Lc3Nu3agX4l",
        "outputId": "01d41c71-904b-414f-f72e-d7fab72313a0"
      },
      "execution_count": 39,
      "outputs": [
        {
          "output_type": "stream",
          "name": "stdout",
          "text": [
            "Skewness: \n",
            " price                         0.316941\n",
            "freight_value                 0.159494\n",
            "product_description_lenght    1.992794\n",
            "product_photos_qty            1.859429\n",
            "review_score                 -2.060140\n",
            "estimated_delivery_time      -1.032132\n",
            "actual_delivery_time         -0.104538\n",
            "dtype: float64 \n",
            "\n",
            "Kurtosis: \n",
            " price                         0.397671\n",
            "freight_value                 5.286240\n",
            "product_description_lenght    4.839593\n",
            "product_photos_qty            4.587948\n",
            "review_score                  2.244223\n",
            "estimated_delivery_time       2.858334\n",
            "actual_delivery_time          0.131633\n",
            "dtype: float64 \n",
            "\n"
          ]
        },
        {
          "output_type": "stream",
          "name": "stderr",
          "text": [
            "/usr/local/lib/python3.7/dist-packages/ipykernel_launcher.py:1: FutureWarning: Dropping of nuisance columns in DataFrame reductions (with 'numeric_only=None') is deprecated; in a future version this will raise TypeError.  Select only valid columns before calling the reduction.\n",
            "  \"\"\"Entry point for launching an IPython kernel.\n",
            "/usr/local/lib/python3.7/dist-packages/ipykernel_launcher.py:2: FutureWarning: Dropping of nuisance columns in DataFrame reductions (with 'numeric_only=None') is deprecated; in a future version this will raise TypeError.  Select only valid columns before calling the reduction.\n",
            "  \n"
          ]
        }
      ]
    },
    {
      "cell_type": "markdown",
      "source": [
        "**Removing outliers**"
      ],
      "metadata": {
        "id": "0sJSoIr6jbr4"
      }
    },
    {
      "cell_type": "markdown",
      "source": [
        "**Actual delivery time**"
      ],
      "metadata": {
        "id": "HZQ7idHAjld7"
      }
    },
    {
      "cell_type": "code",
      "source": [
        "def plot_outlier_features(data):\n",
        "  sns.set(style=\"whitegrid\")\n",
        "  fig, ax = plt.subplots(figsize=(12,5))\n",
        "  bxpt = sns.boxplot(x= data, ax=ax) #df_regression['actual_delivery_time']\n",
        "\n",
        "  print(data.quantile([0, 0.1, 0.2, 0.3, 0.4, 0.5, 0.6, 0.7, 0.8, 0.9, 1]))"
      ],
      "metadata": {
        "id": "dlGL7ypmkSQ3"
      },
      "execution_count": 40,
      "outputs": []
    },
    {
      "cell_type": "code",
      "source": [
        "plot_outlier_features(df_regression['actual_delivery_time'])"
      ],
      "metadata": {
        "colab": {
          "base_uri": "https://localhost:8080/",
          "height": 560
        },
        "id": "adrAvKQ6jejp",
        "outputId": "e8482f68-483a-4dd4-c3ae-3d239d6ecee1"
      },
      "execution_count": 41,
      "outputs": [
        {
          "output_type": "stream",
          "name": "stdout",
          "text": [
            "0.0    0.693147\n",
            "0.1    1.386294\n",
            "0.2    1.791759\n",
            "0.3    2.079442\n",
            "0.4    2.197225\n",
            "0.5    2.302585\n",
            "0.6    2.484907\n",
            "0.7    2.708050\n",
            "0.8    2.890372\n",
            "0.9    3.178054\n",
            "1.0    5.342334\n",
            "Name: actual_delivery_time, dtype: float64\n"
          ]
        },
        {
          "output_type": "display_data",
          "data": {
            "text/plain": [
              "<Figure size 864x360 with 1 Axes>"
            ],
            "image/png": "[encoded data removed]"
          },
          "metadata": {}
        }
      ]
    },
    {
      "cell_type": "code",
      "source": [
        "def imputer(data, col_name):\n",
        "    q1 = data[col_name].quantile(0.25)\n",
        "    q3 = data[col_name].quantile(0.75)\n",
        "    iqr = q3-q1 #Interquartile range\n",
        "    lower_bound  = q1-1.5*iqr\n",
        "    upper_bound = q3+1.5*iqr\n",
        "    print('Lower bound: ', lower_bound)\n",
        "    print('Upper bound: ', upper_bound)\n",
        "    df_regression[col_name] = data[col_name].clip(lower_bound, upper_bound)\n",
        "    return df_regression"
      ],
      "metadata": {
        "id": "s_1mj6lrjwYt"
      },
      "execution_count": 42,
      "outputs": []
    },
    {
      "cell_type": "code",
      "source": [
        "df_regression = imputer(df_regression, 'actual_delivery_time')"
      ],
      "metadata": {
        "colab": {
          "base_uri": "https://localhost:8080/"
        },
        "id": "RFXZv922j37h",
        "outputId": "6457f137-c17c-4800-d6cb-87293923d446"
      },
      "execution_count": 43,
      "outputs": [
        {
          "output_type": "stream",
          "name": "stdout",
          "text": [
            "Lower bound:  0.7058922892786115\n",
            "Upper bound:  4.012606582016483\n"
          ]
        }
      ]
    },
    {
      "cell_type": "code",
      "source": [
        "print(df_regression['actual_delivery_time'].min())\n",
        "print(df_regression['actual_delivery_time'].max())"
      ],
      "metadata": {
        "colab": {
          "base_uri": "https://localhost:8080/"
        },
        "id": "vKX02kBuj-zA",
        "outputId": "c1df75ff-14d9-449e-d9c5-0b6725525509"
      },
      "execution_count": 44,
      "outputs": [
        {
          "output_type": "stream",
          "name": "stdout",
          "text": [
            "0.7058922892786115\n",
            "4.012606582016483\n"
          ]
        }
      ]
    },
    {
      "cell_type": "code",
      "source": [
        "plot_outlier_features(df_regression['actual_delivery_time'])"
      ],
      "metadata": {
        "colab": {
          "base_uri": "https://localhost:8080/",
          "height": 560
        },
        "id": "g9-kCD8dkm82",
        "outputId": "cf5a978b-6d3d-405b-e83b-3d246179ddcf"
      },
      "execution_count": 45,
      "outputs": [
        {
          "output_type": "stream",
          "name": "stdout",
          "text": [
            "0.0    0.705892\n",
            "0.1    1.386294\n",
            "0.2    1.791759\n",
            "0.3    2.079442\n",
            "0.4    2.197225\n",
            "0.5    2.302585\n",
            "0.6    2.484907\n",
            "0.7    2.708050\n",
            "0.8    2.890372\n",
            "0.9    3.178054\n",
            "1.0    4.012607\n",
            "Name: actual_delivery_time, dtype: float64\n"
          ]
        },
        {
          "output_type": "display_data",
          "data": {
            "text/plain": [
              "<Figure size 864x360 with 1 Axes>"
            ],
            "image/png": "[encoded data removed]"
          },
          "metadata": {}
        }
      ]
    },
    {
      "cell_type": "markdown",
      "source": [
        "No outliers after mean imputation. We did this because according to our ecommerce knowledge from google, delivery times for all the orders are the same approximately."
      ],
      "metadata": {
        "id": "nL7cC2ZukGHR"
      }
    },
    {
      "cell_type": "markdown",
      "source": [
        "**estimated_delivery_time**"
      ],
      "metadata": {
        "id": "H7hxcoNCkv1u"
      }
    },
    {
      "cell_type": "code",
      "source": [
        "plot_outlier_features(df_regression['estimated_delivery_time'])"
      ],
      "metadata": {
        "colab": {
          "base_uri": "https://localhost:8080/",
          "height": 560
        },
        "id": "yt_MQq0KkvT_",
        "outputId": "1be5bd5c-ac31-4385-f401-5f1d64219d2c"
      },
      "execution_count": 46,
      "outputs": [
        {
          "output_type": "stream",
          "name": "stdout",
          "text": [
            "0.0    0.693147\n",
            "0.1    2.564949\n",
            "0.2    2.833213\n",
            "0.3    2.995732\n",
            "0.4    3.091042\n",
            "0.5    3.135494\n",
            "0.6    3.218876\n",
            "0.7    3.295837\n",
            "0.8    3.401197\n",
            "0.9    3.526361\n",
            "1.0    5.036953\n",
            "Name: estimated_delivery_time, dtype: float64\n"
          ]
        },
        {
          "output_type": "display_data",
          "data": {
            "text/plain": [
              "<Figure size 864x360 with 1 Axes>"
            ],
            "image/png": "[encoded data removed]"
          },
          "metadata": {}
        }
      ]
    },
    {
      "cell_type": "code",
      "source": [
        "df_regression = imputer(df_regression, 'estimated_delivery_time')"
      ],
      "metadata": {
        "colab": {
          "base_uri": "https://localhost:8080/"
        },
        "id": "wIzkESABlCC-",
        "outputId": "d7508f14-093b-441e-d56c-f2034d845c5f"
      },
      "execution_count": 47,
      "outputs": [
        {
          "output_type": "stream",
          "name": "stdout",
          "text": [
            "Lower bound:  2.3101537029363897\n",
            "Upper bound:  4.001581106216525\n"
          ]
        }
      ]
    },
    {
      "cell_type": "code",
      "source": [
        "print(df_regression['estimated_delivery_time'].min())\n",
        "print(df_regression['estimated_delivery_time'].max())"
      ],
      "metadata": {
        "colab": {
          "base_uri": "https://localhost:8080/"
        },
        "id": "zf5zWgOFlK6D",
        "outputId": "c830374a-d3bf-43dc-d273-6e93e3d3f863"
      },
      "execution_count": 48,
      "outputs": [
        {
          "output_type": "stream",
          "name": "stdout",
          "text": [
            "2.3101537029363897\n",
            "4.001581106216525\n"
          ]
        }
      ]
    },
    {
      "cell_type": "code",
      "source": [
        "plot_outlier_features(df_regression['estimated_delivery_time'])"
      ],
      "metadata": {
        "colab": {
          "base_uri": "https://localhost:8080/",
          "height": 560
        },
        "id": "NBFAM79LlPp0",
        "outputId": "f1cd880d-52c8-4b11-b340-1ec9a6fa6292"
      },
      "execution_count": 49,
      "outputs": [
        {
          "output_type": "stream",
          "name": "stdout",
          "text": [
            "0.0    2.310154\n",
            "0.1    2.564949\n",
            "0.2    2.833213\n",
            "0.3    2.995732\n",
            "0.4    3.091042\n",
            "0.5    3.135494\n",
            "0.6    3.218876\n",
            "0.7    3.295837\n",
            "0.8    3.401197\n",
            "0.9    3.526361\n",
            "1.0    4.001581\n",
            "Name: estimated_delivery_time, dtype: float64\n"
          ]
        },
        {
          "output_type": "display_data",
          "data": {
            "text/plain": [
              "<Figure size 864x360 with 1 Axes>"
            ],
            "image/png": "[encoded data removed]"
          },
          "metadata": {}
        }
      ]
    },
    {
      "cell_type": "markdown",
      "source": [
        "**Product Photo quality**"
      ],
      "metadata": {
        "id": "HreLFNM8lax4"
      }
    },
    {
      "cell_type": "code",
      "source": [
        "df_regression['product_photos_qty'] = df_regression['product_photos_qty'].round(0).astype(int)"
      ],
      "metadata": {
        "id": "XHMSZxRNlfDt"
      },
      "execution_count": 50,
      "outputs": []
    },
    {
      "cell_type": "code",
      "source": [
        "plot_outlier_features(df_regression['product_photos_qty'])"
      ],
      "metadata": {
        "colab": {
          "base_uri": "https://localhost:8080/",
          "height": 560
        },
        "id": "5D9UzoSflivD",
        "outputId": "8afaf3fe-602e-481b-fc25-e2d88900e5d2"
      },
      "execution_count": 51,
      "outputs": [
        {
          "output_type": "stream",
          "name": "stdout",
          "text": [
            "0.0     1.0\n",
            "0.1     1.0\n",
            "0.2     1.0\n",
            "0.3     1.0\n",
            "0.4     1.0\n",
            "0.5     2.0\n",
            "0.6     2.0\n",
            "0.7     3.0\n",
            "0.8     3.0\n",
            "0.9     5.0\n",
            "1.0    20.0\n",
            "Name: product_photos_qty, dtype: float64\n"
          ]
        },
        {
          "output_type": "display_data",
          "data": {
            "text/plain": [
              "<Figure size 864x360 with 1 Axes>"
            ],
            "image/png": "[encoded data removed]"
          },
          "metadata": {}
        }
      ]
    },
    {
      "cell_type": "code",
      "source": [
        "df_regression = imputer(df_regression, 'product_photos_qty')"
      ],
      "metadata": {
        "colab": {
          "base_uri": "https://localhost:8080/"
        },
        "id": "2zpeVgZblnXn",
        "outputId": "3b046384-a511-49c2-acc8-d41a59bffcfb"
      },
      "execution_count": 52,
      "outputs": [
        {
          "output_type": "stream",
          "name": "stdout",
          "text": [
            "Lower bound:  -2.0\n",
            "Upper bound:  6.0\n"
          ]
        }
      ]
    },
    {
      "cell_type": "code",
      "source": [
        "plot_outlier_features(df_regression['product_photos_qty'])"
      ],
      "metadata": {
        "colab": {
          "base_uri": "https://localhost:8080/",
          "height": 560
        },
        "id": "qENuPCiclpz5",
        "outputId": "cfbe37c7-f05b-498e-ed4c-6d54d81d6edd"
      },
      "execution_count": 53,
      "outputs": [
        {
          "output_type": "stream",
          "name": "stdout",
          "text": [
            "0.0    1.0\n",
            "0.1    1.0\n",
            "0.2    1.0\n",
            "0.3    1.0\n",
            "0.4    1.0\n",
            "0.5    2.0\n",
            "0.6    2.0\n",
            "0.7    3.0\n",
            "0.8    3.0\n",
            "0.9    5.0\n",
            "1.0    6.0\n",
            "Name: product_photos_qty, dtype: float64\n"
          ]
        },
        {
          "output_type": "display_data",
          "data": {
            "text/plain": [
              "<Figure size 864x360 with 1 Axes>"
            ],
            "image/png": "[encoded data removed]"
          },
          "metadata": {}
        }
      ]
    },
    {
      "cell_type": "markdown",
      "source": [
        "**Freight Value**"
      ],
      "metadata": {
        "id": "1s6klOlWlwh4"
      }
    },
    {
      "cell_type": "code",
      "source": [
        "plot_outlier_features(df_regression['freight_value'])"
      ],
      "metadata": {
        "colab": {
          "base_uri": "https://localhost:8080/",
          "height": 560
        },
        "id": "uaZm7JGdlzZM",
        "outputId": "954328bb-c8b0-4626-f6c7-330a4826125d"
      },
      "execution_count": 54,
      "outputs": [
        {
          "output_type": "stream",
          "name": "stdout",
          "text": [
            "0.0    0.000000\n",
            "0.1    2.297573\n",
            "0.2    2.601207\n",
            "0.3    2.714695\n",
            "0.4    2.783776\n",
            "0.5    2.856470\n",
            "0.6    2.941804\n",
            "0.7    3.021887\n",
            "0.8    3.194173\n",
            "0.9    3.560478\n",
            "1.0    6.017814\n",
            "Name: freight_value, dtype: float64\n"
          ]
        },
        {
          "output_type": "display_data",
          "data": {
            "text/plain": [
              "<Figure size 864x360 with 1 Axes>"
            ],
            "image/png": "[encoded data removed]"
          },
          "metadata": {}
        }
      ]
    },
    {
      "cell_type": "code",
      "source": [
        "df_regression = imputer(df_regression, 'freight_value')"
      ],
      "metadata": {
        "colab": {
          "base_uri": "https://localhost:8080/"
        },
        "id": "YJv92lijl5MC",
        "outputId": "4d0bef74-37e2-427d-be4b-586e28e0df33"
      },
      "execution_count": 55,
      "outputs": [
        {
          "output_type": "stream",
          "name": "stdout",
          "text": [
            "Lower bound:  2.003167634417409\n",
            "Upper bound:  3.7647204551859983\n"
          ]
        }
      ]
    },
    {
      "cell_type": "code",
      "source": [
        "plot_outlier_features(df_regression['freight_value'])"
      ],
      "metadata": {
        "colab": {
          "base_uri": "https://localhost:8080/",
          "height": 560
        },
        "id": "VOTtKePfl9Ha",
        "outputId": "3b358feb-5883-465f-a142-b336a485de62"
      },
      "execution_count": 56,
      "outputs": [
        {
          "output_type": "stream",
          "name": "stdout",
          "text": [
            "0.0    2.003168\n",
            "0.1    2.297573\n",
            "0.2    2.601207\n",
            "0.3    2.714695\n",
            "0.4    2.783776\n",
            "0.5    2.856470\n",
            "0.6    2.941804\n",
            "0.7    3.021887\n",
            "0.8    3.194173\n",
            "0.9    3.560478\n",
            "1.0    3.764720\n",
            "Name: freight_value, dtype: float64\n"
          ]
        },
        {
          "output_type": "display_data",
          "data": {
            "text/plain": [
              "<Figure size 864x360 with 1 Axes>"
            ],
            "image/png": "[encoded data removed]"
          },
          "metadata": {}
        }
      ]
    },
    {
      "cell_type": "markdown",
      "source": [
        "Dividing customer state into 5 regions of Brazil"
      ],
      "metadata": {
        "id": "QI6jmtZ-oAlb"
      }
    },
    {
      "cell_type": "code",
      "source": [
        "north = ['AC','AP','AM','PA','RO','RR','TO']\n",
        "north_east = ['AL','BA','CE','MA','PB','PE','PI','RN','SE']\n",
        "center_west = ['DF','GO','MT','MS']\n",
        "south_east = ['ES','MG','RJ','SP']\n",
        "south = ['PR','RS','SC']"
      ],
      "metadata": {
        "id": "Z6UH1RPTnnJy"
      },
      "execution_count": 57,
      "outputs": []
    },
    {
      "cell_type": "code",
      "source": [
        "df_regression.loc[df_regression['customer_state'].isin(north), 'customer_regions'] = 'north'\n",
        "df_regression.loc[df_regression['customer_state'].isin(north_east), 'customer_regions'] = 'north_east'\n",
        "df_regression.loc[df_regression['customer_state'].isin(center_west), 'customer_regions'] = 'center_west'\n",
        "df_regression.loc[df_regression['customer_state'].isin(south_east), 'customer_regions'] = 'south_east'\n",
        "df_regression.loc[df_regression['customer_state'].isin(south), 'customer_regions'] = 'south'"
      ],
      "metadata": {
        "id": "lNSeVCIQnopu"
      },
      "execution_count": 58,
      "outputs": []
    },
    {
      "cell_type": "code",
      "source": [
        "df_regression.head()"
      ],
      "metadata": {
        "colab": {
          "base_uri": "https://localhost:8080/",
          "height": 206
        },
        "id": "4ZvqMQ2gKwFK",
        "outputId": "ab5fca43-b9b0-4004-cb54-96112b13e3bb"
      },
      "execution_count": 61,
      "outputs": [
        {
          "output_type": "execute_result",
          "data": {
            "text/plain": [
              "      price  freight_value customer_state  product_description_lenght  \\\n",
              "0  3.433665       2.274186             SP                       268.0   \n",
              "1  3.433665       2.172476             SP                       268.0   \n",
              "2  3.433665       2.172476             SP                       268.0   \n",
              "3  3.433665       2.714695             SC                       268.0   \n",
              "4  5.828946       2.897016             SP                       664.0   \n",
              "\n",
              "   product_photos_qty  review_score product_category_name_english_y  \\\n",
              "0                 4.0             1                      housewares   \n",
              "1                 4.0             1                      housewares   \n",
              "2                 4.0             1                      housewares   \n",
              "3                 4.0             1                      housewares   \n",
              "4                 6.0             0                      housewares   \n",
              "\n",
              "   estimated_delivery_time  actual_delivery_time customer_regions  \n",
              "0                 2.772589              2.197225       south_east  \n",
              "1                 2.564949              1.098612       south_east  \n",
              "2                 2.564949              1.609438       south_east  \n",
              "3                 2.944439              2.639057            south  \n",
              "4                 3.258097              3.526361       south_east  "
            ],
            "text/html": [
              "\n",
              "  <div id=\"df-723f44c7-e05b-41b3-9bf1-1fe92d7d7e6c\">\n",
              "    <div class=\"colab-df-container\">\n",
              "      <div>\n",
              "<style scoped>\n",
              "    .dataframe tbody tr th:only-of-type {\n",
              "        vertical-align: middle;\n",
              "    }\n",
              "\n",
              "    .dataframe tbody tr th {\n",
              "        vertical-align: top;\n",
              "    }\n",
              "\n",
              "    .dataframe thead th {\n",
              "        text-align: right;\n",
              "    }\n",
              "</style>\n",
              "<table border=\"1\" class=\"dataframe\">\n",
              "  <thead>\n",
              "    <tr style=\"text-align: right;\">\n",
              "      <th></th>\n",
              "      <th>price</th>\n",
              "      <th>freight_value</th>\n",
              "      <th>customer_state</th>\n",
              "      <th>product_description_lenght</th>\n",
              "      <th>product_photos_qty</th>\n",
              "      <th>review_score</th>\n",
              "      <th>product_category_name_english_y</th>\n",
              "      <th>estimated_delivery_time</th>\n",
              "      <th>actual_delivery_time</th>\n",
              "      <th>customer_regions</th>\n",
              "    </tr>\n",
              "  </thead>\n",
              "  <tbody>\n",
              "    <tr>\n",
              "      <th>0</th>\n",
              "      <td>3.433665</td>\n",
              "      <td>2.274186</td>\n",
              "      <td>SP</td>\n",
              "      <td>268.0</td>\n",
              "      <td>4.0</td>\n",
              "      <td>1</td>\n",
              "      <td>housewares</td>\n",
              "      <td>2.772589</td>\n",
              "      <td>2.197225</td>\n",
              "      <td>south_east</td>\n",
              "    </tr>\n",
              "    <tr>\n",
              "      <th>1</th>\n",
              "      <td>3.433665</td>\n",
              "      <td>2.172476</td>\n",
              "      <td>SP</td>\n",
              "      <td>268.0</td>\n",
              "      <td>4.0</td>\n",
              "      <td>1</td>\n",
              "      <td>housewares</td>\n",
              "      <td>2.564949</td>\n",
              "      <td>1.098612</td>\n",
              "      <td>south_east</td>\n",
              "    </tr>\n",
              "    <tr>\n",
              "      <th>2</th>\n",
              "      <td>3.433665</td>\n",
              "      <td>2.172476</td>\n",
              "      <td>SP</td>\n",
              "      <td>268.0</td>\n",
              "      <td>4.0</td>\n",
              "      <td>1</td>\n",
              "      <td>housewares</td>\n",
              "      <td>2.564949</td>\n",
              "      <td>1.609438</td>\n",
              "      <td>south_east</td>\n",
              "    </tr>\n",
              "    <tr>\n",
              "      <th>3</th>\n",
              "      <td>3.433665</td>\n",
              "      <td>2.714695</td>\n",
              "      <td>SC</td>\n",
              "      <td>268.0</td>\n",
              "      <td>4.0</td>\n",
              "      <td>1</td>\n",
              "      <td>housewares</td>\n",
              "      <td>2.944439</td>\n",
              "      <td>2.639057</td>\n",
              "      <td>south</td>\n",
              "    </tr>\n",
              "    <tr>\n",
              "      <th>4</th>\n",
              "      <td>5.828946</td>\n",
              "      <td>2.897016</td>\n",
              "      <td>SP</td>\n",
              "      <td>664.0</td>\n",
              "      <td>6.0</td>\n",
              "      <td>0</td>\n",
              "      <td>housewares</td>\n",
              "      <td>3.258097</td>\n",
              "      <td>3.526361</td>\n",
              "      <td>south_east</td>\n",
              "    </tr>\n",
              "  </tbody>\n",
              "</table>\n",
              "</div>\n",
              "      <button class=\"colab-df-convert\" onclick=\"convertToInteractive('df-723f44c7-e05b-41b3-9bf1-1fe92d7d7e6c')\"\n",
              "              title=\"Convert this dataframe to an interactive table.\"\n",
              "              style=\"display:none;\">\n",
              "        \n",
              "  <svg xmlns=\"http://www.w3.org/2000/svg\" height=\"24px\"viewBox=\"0 0 24 24\"\n",
              "       width=\"24px\">\n",
              "    <path d=\"M0 0h24v24H0V0z\" fill=\"none\"/>\n",
              "    <path d=\"M18.56 5.44l.94 2.06.94-2.06 2.06-.94-2.06-.94-.94-2.06-.94 2.06-2.06.94zm-11 1L8.5 8.5l.94-2.06 2.06-.94-2.06-.94L8.5 2.5l-.94 2.06-2.06.94zm10 10l.94 2.06.94-2.06 2.06-.94-2.06-.94-.94-2.06-.94 2.06-2.06.94z\"/><path d=\"M17.41 7.96l-1.37-1.37c-.4-.4-.92-.59-1.43-.59-.52 0-1.04.2-1.43.59L10.3 9.45l-7.72 7.72c-.78.78-.78 2.05 0 2.83L4 21.41c.39.39.9.59 1.41.59.51 0 1.02-.2 1.41-.59l7.78-7.78 2.81-2.81c.8-.78.8-2.07 0-2.86zM5.41 20L4 18.59l7.72-7.72 1.47 1.35L5.41 20z\"/>\n",
              "  </svg>\n",
              "      </button>\n",
              "      \n",
              "  <style>\n",
              "    .colab-df-container {\n",
              "      display:flex;\n",
              "      flex-wrap:wrap;\n",
              "      gap: 12px;\n",
              "    }\n",
              "\n",
              "    .colab-df-convert {\n",
              "      background-color: #E8F0FE;\n",
              "      border: none;\n",
              "      border-radius: 50%;\n",
              "      cursor: pointer;\n",
              "      display: none;\n",
              "      fill: #1967D2;\n",
              "      height: 32px;\n",
              "      padding: 0 0 0 0;\n",
              "      width: 32px;\n",
              "    }\n",
              "\n",
              "    .colab-df-convert:hover {\n",
              "      background-color: #E2EBFA;\n",
              "      box-shadow: 0px 1px 2px rgba(60, 64, 67, 0.3), 0px 1px 3px 1px rgba(60, 64, 67, 0.15);\n",
              "      fill: #174EA6;\n",
              "    }\n",
              "\n",
              "    [theme=dark] .colab-df-convert {\n",
              "      background-color: #3B4455;\n",
              "      fill: #D2E3FC;\n",
              "    }\n",
              "\n",
              "    [theme=dark] .colab-df-convert:hover {\n",
              "      background-color: #434B5C;\n",
              "      box-shadow: 0px 1px 3px 1px rgba(0, 0, 0, 0.15);\n",
              "      filter: drop-shadow(0px 1px 2px rgba(0, 0, 0, 0.3));\n",
              "      fill: #FFFFFF;\n",
              "    }\n",
              "  </style>\n",
              "\n",
              "      <script>\n",
              "        const buttonEl =\n",
              "          document.querySelector('#df-723f44c7-e05b-41b3-9bf1-1fe92d7d7e6c button.colab-df-convert');\n",
              "        buttonEl.style.display =\n",
              "          google.colab.kernel.accessAllowed ? 'block' : 'none';\n",
              "\n",
              "        async function convertToInteractive(key) {\n",
              "          const element = document.querySelector('#df-723f44c7-e05b-41b3-9bf1-1fe92d7d7e6c');\n",
              "          const dataTable =\n",
              "            await google.colab.kernel.invokeFunction('convertToInteractive',\n",
              "                                                     [key], {});\n",
              "          if (!dataTable) return;\n",
              "\n",
              "          const docLinkHtml = 'Like what you see? Visit the ' +\n",
              "            '<a target=\"_blank\" href=https://colab.research.google.com/notebooks/data_table.ipynb>data table notebook</a>'\n",
              "            + ' to learn more about interactive tables.';\n",
              "          element.innerHTML = '';\n",
              "          dataTable['output_type'] = 'display_data';\n",
              "          await google.colab.output.renderOutput(dataTable, element);\n",
              "          const docLink = document.createElement('div');\n",
              "          docLink.innerHTML = docLinkHtml;\n",
              "          element.appendChild(docLink);\n",
              "        }\n",
              "      </script>\n",
              "    </div>\n",
              "  </div>\n",
              "  "
            ]
          },
          "metadata": {},
          "execution_count": 61
        }
      ]
    },
    {
      "cell_type": "markdown",
      "source": [
        "Dividing product_category_name into category types"
      ],
      "metadata": {
        "id": "vQnTm4fdn9QU"
      }
    },
    {
      "cell_type": "code",
      "source": [
        "home_personal = ['bed_bath_table', 'housewares', 'food_drink', 'kitchen_dining_laundry_garden_furniture', 'home_confort', 'home_comfort_2', \n",
        "                 'food', 'christmas_supplies', 'drinks', 'health_beauty', 'bed_bath_table', 'perfumery', 'watches_gifts', 'flowers', \n",
        "                 'party_supplies', 'auto', 'pet_shop', 'cine_photo', 'la_cuisine']\n",
        "\n",
        "entertainment_stationary = ['audio', 'books_technical', 'musical_instruments', 'books_general_interest', 'art', 'books_imported', 'music',\n",
        "                              'arts_and_craftmanship', 'stationery', 'consoles_games', 'cool_stuff']\n",
        "\n",
        "electronics_furniture = ['computers_accessories', 'furniture_decor', 'telephony', 'tablets_printing_image', 'fixed_telephony', \n",
        "                         'small_appliances', 'air_conditioning', 'office_furniture', 'electronics', 'home_appliances',\n",
        "                         'furniture_living_room', 'home_construction', 'furniture_mattress_and_upholstery', 'furniture_bedroom',\n",
        "                         'signaling_and_security', 'computers', 'home_appliances_2', 'small_appliances_home_oven_and_coffee', \n",
        "                         'cds_dvds_musicals', 'dvds_blu_ray', 'security_and_services']\n",
        "\n",
        "garden_construction_idustry = ['garden_tools', 'construction_tools_construction', 'costruction_tools_garden', 'costruction_tools_tools',\n",
        "                               'construction_tools_lights', 'construction_tools_safety', 'market_place',  'agro_industry_and_commerce',  \n",
        "                               'industry_commerce_and_business',]\n",
        "\n",
        "fashion_clothing = ['sports_leisure', 'baby', 'toys', 'fashion_bags_accessories', 'fashion_shoes', 'luggage_accessories',\n",
        "                            'fashion_male_clothing', 'fashion_underwear_beach', 'fashion_sport', 'fashio_female_clothing',\n",
        "                            'diapers_and_hygiene', 'fashion_childrens_clothes']"
      ],
      "metadata": {
        "id": "W7k8shkdoC9i"
      },
      "execution_count": 59,
      "outputs": []
    },
    {
      "cell_type": "code",
      "source": [
        "df_regression.loc[df_regression['product_category_name_english_y'].isin(home_personal), 'product_category_type'] = 'home_personal'\n",
        "df_regression.loc[df_regression['product_category_name_english_y'].isin(entertainment_stationary), 'product_category_type'] = 'entertainment_stationary'\n",
        "df_regression.loc[df_regression['product_category_name_english_y'].isin(electronics_furniture), 'product_category_type'] = 'electronics_furniture'\n",
        "df_regression.loc[df_regression['product_category_name_english_y'].isin(garden_construction_idustry), 'product_category_type'] = 'garden_construction_idustry'\n",
        "df_regression.loc[df_regression['product_category_name_english_y'].isin(fashion_clothing), 'product_category_type'] = 'fashion_clothing'"
      ],
      "metadata": {
        "id": "XZ-YxUZmoPTZ"
      },
      "execution_count": 62,
      "outputs": []
    },
    {
      "cell_type": "code",
      "source": [
        "df_regression.head()"
      ],
      "metadata": {
        "colab": {
          "base_uri": "https://localhost:8080/",
          "height": 270
        },
        "id": "MkO4sRg_obuu",
        "outputId": "1c6fac78-5f77-45e2-e90f-fe4acea515a4"
      },
      "execution_count": 63,
      "outputs": [
        {
          "output_type": "execute_result",
          "data": {
            "text/plain": [
              "      price  freight_value customer_state  product_description_lenght  \\\n",
              "0  3.433665       2.274186             SP                       268.0   \n",
              "1  3.433665       2.172476             SP                       268.0   \n",
              "2  3.433665       2.172476             SP                       268.0   \n",
              "3  3.433665       2.714695             SC                       268.0   \n",
              "4  5.828946       2.897016             SP                       664.0   \n",
              "\n",
              "   product_photos_qty  review_score product_category_name_english_y  \\\n",
              "0                 4.0             1                      housewares   \n",
              "1                 4.0             1                      housewares   \n",
              "2                 4.0             1                      housewares   \n",
              "3                 4.0             1                      housewares   \n",
              "4                 6.0             0                      housewares   \n",
              "\n",
              "   estimated_delivery_time  actual_delivery_time customer_regions  \\\n",
              "0                 2.772589              2.197225       south_east   \n",
              "1                 2.564949              1.098612       south_east   \n",
              "2                 2.564949              1.609438       south_east   \n",
              "3                 2.944439              2.639057            south   \n",
              "4                 3.258097              3.526361       south_east   \n",
              "\n",
              "  product_category_type  \n",
              "0         home_personal  \n",
              "1         home_personal  \n",
              "2         home_personal  \n",
              "3         home_personal  \n",
              "4         home_personal  "
            ],
            "text/html": [
              "\n",
              "  <div id=\"df-dc64b4e2-f41d-44db-8f97-0e6a19f060c1\">\n",
              "    <div class=\"colab-df-container\">\n",
              "      <div>\n",
              "<style scoped>\n",
              "    .dataframe tbody tr th:only-of-type {\n",
              "        vertical-align: middle;\n",
              "    }\n",
              "\n",
              "    .dataframe tbody tr th {\n",
              "        vertical-align: top;\n",
              "    }\n",
              "\n",
              "    .dataframe thead th {\n",
              "        text-align: right;\n",
              "    }\n",
              "</style>\n",
              "<table border=\"1\" class=\"dataframe\">\n",
              "  <thead>\n",
              "    <tr style=\"text-align: right;\">\n",
              "      <th></th>\n",
              "      <th>price</th>\n",
              "      <th>freight_value</th>\n",
              "      <th>customer_state</th>\n",
              "      <th>product_description_lenght</th>\n",
              "      <th>product_photos_qty</th>\n",
              "      <th>review_score</th>\n",
              "      <th>product_category_name_english_y</th>\n",
              "      <th>estimated_delivery_time</th>\n",
              "      <th>actual_delivery_time</th>\n",
              "      <th>customer_regions</th>\n",
              "      <th>product_category_type</th>\n",
              "    </tr>\n",
              "  </thead>\n",
              "  <tbody>\n",
              "    <tr>\n",
              "      <th>0</th>\n",
              "      <td>3.433665</td>\n",
              "      <td>2.274186</td>\n",
              "      <td>SP</td>\n",
              "      <td>268.0</td>\n",
              "      <td>4.0</td>\n",
              "      <td>1</td>\n",
              "      <td>housewares</td>\n",
              "      <td>2.772589</td>\n",
              "      <td>2.197225</td>\n",
              "      <td>south_east</td>\n",
              "      <td>home_personal</td>\n",
              "    </tr>\n",
              "    <tr>\n",
              "      <th>1</th>\n",
              "      <td>3.433665</td>\n",
              "      <td>2.172476</td>\n",
              "      <td>SP</td>\n",
              "      <td>268.0</td>\n",
              "      <td>4.0</td>\n",
              "      <td>1</td>\n",
              "      <td>housewares</td>\n",
              "      <td>2.564949</td>\n",
              "      <td>1.098612</td>\n",
              "      <td>south_east</td>\n",
              "      <td>home_personal</td>\n",
              "    </tr>\n",
              "    <tr>\n",
              "      <th>2</th>\n",
              "      <td>3.433665</td>\n",
              "      <td>2.172476</td>\n",
              "      <td>SP</td>\n",
              "      <td>268.0</td>\n",
              "      <td>4.0</td>\n",
              "      <td>1</td>\n",
              "      <td>housewares</td>\n",
              "      <td>2.564949</td>\n",
              "      <td>1.609438</td>\n",
              "      <td>south_east</td>\n",
              "      <td>home_personal</td>\n",
              "    </tr>\n",
              "    <tr>\n",
              "      <th>3</th>\n",
              "      <td>3.433665</td>\n",
              "      <td>2.714695</td>\n",
              "      <td>SC</td>\n",
              "      <td>268.0</td>\n",
              "      <td>4.0</td>\n",
              "      <td>1</td>\n",
              "      <td>housewares</td>\n",
              "      <td>2.944439</td>\n",
              "      <td>2.639057</td>\n",
              "      <td>south</td>\n",
              "      <td>home_personal</td>\n",
              "    </tr>\n",
              "    <tr>\n",
              "      <th>4</th>\n",
              "      <td>5.828946</td>\n",
              "      <td>2.897016</td>\n",
              "      <td>SP</td>\n",
              "      <td>664.0</td>\n",
              "      <td>6.0</td>\n",
              "      <td>0</td>\n",
              "      <td>housewares</td>\n",
              "      <td>3.258097</td>\n",
              "      <td>3.526361</td>\n",
              "      <td>south_east</td>\n",
              "      <td>home_personal</td>\n",
              "    </tr>\n",
              "  </tbody>\n",
              "</table>\n",
              "</div>\n",
              "      <button class=\"colab-df-convert\" onclick=\"convertToInteractive('df-dc64b4e2-f41d-44db-8f97-0e6a19f060c1')\"\n",
              "              title=\"Convert this dataframe to an interactive table.\"\n",
              "              style=\"display:none;\">\n",
              "        \n",
              "  <svg xmlns=\"http://www.w3.org/2000/svg\" height=\"24px\"viewBox=\"0 0 24 24\"\n",
              "       width=\"24px\">\n",
              "    <path d=\"M0 0h24v24H0V0z\" fill=\"none\"/>\n",
              "    <path d=\"M18.56 5.44l.94 2.06.94-2.06 2.06-.94-2.06-.94-.94-2.06-.94 2.06-2.06.94zm-11 1L8.5 8.5l.94-2.06 2.06-.94-2.06-.94L8.5 2.5l-.94 2.06-2.06.94zm10 10l.94 2.06.94-2.06 2.06-.94-2.06-.94-.94-2.06-.94 2.06-2.06.94z\"/><path d=\"M17.41 7.96l-1.37-1.37c-.4-.4-.92-.59-1.43-.59-.52 0-1.04.2-1.43.59L10.3 9.45l-7.72 7.72c-.78.78-.78 2.05 0 2.83L4 21.41c.39.39.9.59 1.41.59.51 0 1.02-.2 1.41-.59l7.78-7.78 2.81-2.81c.8-.78.8-2.07 0-2.86zM5.41 20L4 18.59l7.72-7.72 1.47 1.35L5.41 20z\"/>\n",
              "  </svg>\n",
              "      </button>\n",
              "      \n",
              "  <style>\n",
              "    .colab-df-container {\n",
              "      display:flex;\n",
              "      flex-wrap:wrap;\n",
              "      gap: 12px;\n",
              "    }\n",
              "\n",
              "    .colab-df-convert {\n",
              "      background-color: #E8F0FE;\n",
              "      border: none;\n",
              "      border-radius: 50%;\n",
              "      cursor: pointer;\n",
              "      display: none;\n",
              "      fill: #1967D2;\n",
              "      height: 32px;\n",
              "      padding: 0 0 0 0;\n",
              "      width: 32px;\n",
              "    }\n",
              "\n",
              "    .colab-df-convert:hover {\n",
              "      background-color: #E2EBFA;\n",
              "      box-shadow: 0px 1px 2px rgba(60, 64, 67, 0.3), 0px 1px 3px 1px rgba(60, 64, 67, 0.15);\n",
              "      fill: #174EA6;\n",
              "    }\n",
              "\n",
              "    [theme=dark] .colab-df-convert {\n",
              "      background-color: #3B4455;\n",
              "      fill: #D2E3FC;\n",
              "    }\n",
              "\n",
              "    [theme=dark] .colab-df-convert:hover {\n",
              "      background-color: #434B5C;\n",
              "      box-shadow: 0px 1px 3px 1px rgba(0, 0, 0, 0.15);\n",
              "      filter: drop-shadow(0px 1px 2px rgba(0, 0, 0, 0.3));\n",
              "      fill: #FFFFFF;\n",
              "    }\n",
              "  </style>\n",
              "\n",
              "      <script>\n",
              "        const buttonEl =\n",
              "          document.querySelector('#df-dc64b4e2-f41d-44db-8f97-0e6a19f060c1 button.colab-df-convert');\n",
              "        buttonEl.style.display =\n",
              "          google.colab.kernel.accessAllowed ? 'block' : 'none';\n",
              "\n",
              "        async function convertToInteractive(key) {\n",
              "          const element = document.querySelector('#df-dc64b4e2-f41d-44db-8f97-0e6a19f060c1');\n",
              "          const dataTable =\n",
              "            await google.colab.kernel.invokeFunction('convertToInteractive',\n",
              "                                                     [key], {});\n",
              "          if (!dataTable) return;\n",
              "\n",
              "          const docLinkHtml = 'Like what you see? Visit the ' +\n",
              "            '<a target=\"_blank\" href=https://colab.research.google.com/notebooks/data_table.ipynb>data table notebook</a>'\n",
              "            + ' to learn more about interactive tables.';\n",
              "          element.innerHTML = '';\n",
              "          dataTable['output_type'] = 'display_data';\n",
              "          await google.colab.output.renderOutput(dataTable, element);\n",
              "          const docLink = document.createElement('div');\n",
              "          docLink.innerHTML = docLinkHtml;\n",
              "          element.appendChild(docLink);\n",
              "        }\n",
              "      </script>\n",
              "    </div>\n",
              "  </div>\n",
              "  "
            ]
          },
          "metadata": {},
          "execution_count": 63
        }
      ]
    },
    {
      "cell_type": "code",
      "source": [
        "# Lets remove the columns that we have aggregated from: customer_state and product_category_name\n",
        "\n",
        "df_regression = df_regression.drop(['customer_state','product_category_name_english_y'], axis=1)\n",
        "df_regression.info()"
      ],
      "metadata": {
        "colab": {
          "base_uri": "https://localhost:8080/"
        },
        "id": "Hiz7M6BcLiOM",
        "outputId": "72c4a9d7-3b35-4f85-c43e-bf3a0f3cdaee"
      },
      "execution_count": 73,
      "outputs": [
        {
          "output_type": "stream",
          "name": "stdout",
          "text": [
            "<class 'pandas.core.frame.DataFrame'>\n",
            "Int64Index: 96282 entries, 0 to 96515\n",
            "Data columns (total 9 columns):\n",
            " #   Column                      Non-Null Count  Dtype  \n",
            "---  ------                      --------------  -----  \n",
            " 0   price                       96282 non-null  float64\n",
            " 1   freight_value               96282 non-null  float64\n",
            " 2   product_description_lenght  96282 non-null  float64\n",
            " 3   product_photos_qty          96282 non-null  float64\n",
            " 4   review_score                96282 non-null  int64  \n",
            " 5   estimated_delivery_time     96282 non-null  float64\n",
            " 6   actual_delivery_time        96282 non-null  float64\n",
            " 7   customer_regions            96282 non-null  object \n",
            " 8   product_category_type       96282 non-null  object \n",
            "dtypes: float64(6), int64(1), object(2)\n",
            "memory usage: 7.3+ MB\n"
          ]
        }
      ]
    },
    {
      "cell_type": "markdown",
      "source": [
        "**Training and Testing data**"
      ],
      "metadata": {
        "id": "5vHggHq4geqx"
      }
    },
    {
      "cell_type": "code",
      "source": [
        "X = df_regression.iloc[:,:-1]\n",
        "y = df_regression['actual_delivery_time']"
      ],
      "metadata": {
        "id": "H7sutX_rgjuU"
      },
      "execution_count": 74,
      "outputs": []
    },
    {
      "cell_type": "code",
      "source": [
        "X.columns"
      ],
      "metadata": {
        "colab": {
          "base_uri": "https://localhost:8080/"
        },
        "id": "ImfDkQ4cLXSc",
        "outputId": "f733071f-e997-4fc6-9f45-a02366bf6a4e"
      },
      "execution_count": 75,
      "outputs": [
        {
          "output_type": "execute_result",
          "data": {
            "text/plain": [
              "Index(['price', 'freight_value', 'product_description_lenght',\n",
              "       'product_photos_qty', 'review_score', 'estimated_delivery_time',\n",
              "       'actual_delivery_time', 'customer_regions'],\n",
              "      dtype='object')"
            ]
          },
          "metadata": {},
          "execution_count": 75
        }
      ]
    },
    {
      "cell_type": "code",
      "source": [
        "# turn X into dict\n",
        "X_dict = X.to_dict(orient='records') # turn each row as key-value pairs\n",
        "X_dict[0]"
      ],
      "metadata": {
        "colab": {
          "base_uri": "https://localhost:8080/"
        },
        "id": "0pqUpKHVgl0U",
        "outputId": "9fcff38b-72b3-465b-9ea3-a7c465a26287"
      },
      "execution_count": 76,
      "outputs": [
        {
          "output_type": "execute_result",
          "data": {
            "text/plain": [
              "{'actual_delivery_time': 2.1972245773362196,\n",
              " 'customer_regions': 'south_east',\n",
              " 'estimated_delivery_time': 2.772588722239781,\n",
              " 'freight_value': 2.2741856184723477,\n",
              " 'price': 3.433664571799657,\n",
              " 'product_description_lenght': 268.0,\n",
              " 'product_photos_qty': 4.0,\n",
              " 'review_score': 1}"
            ]
          },
          "metadata": {},
          "execution_count": 76
        }
      ]
    },
    {
      "cell_type": "code",
      "source": [
        "# DictVectorizer\n",
        "from sklearn.feature_extraction import DictVectorizer\n",
        "\n",
        "dv_X = DictVectorizer(sparse=False) \n",
        "# sparse = False means the output is not a sparse matrix\n",
        "# apply dv_X on X_dict\n",
        "X_encoded = dv_X.fit_transform(X_dict)\n",
        "# show X_encoded\n",
        "X_encoded"
      ],
      "metadata": {
        "colab": {
          "base_uri": "https://localhost:8080/"
        },
        "id": "qxUhb8D9guHc",
        "outputId": "c7a4fd66-ef21-4957-cd3a-ae12eefb9e8d"
      },
      "execution_count": 77,
      "outputs": [
        {
          "output_type": "execute_result",
          "data": {
            "text/plain": [
              "array([[  2.19722458,   0.        ,   0.        , ..., 268.        ,\n",
              "          4.        ,   1.        ],\n",
              "       [  1.09861229,   0.        ,   0.        , ..., 268.        ,\n",
              "          4.        ,   1.        ],\n",
              "       [  1.60943791,   0.        ,   0.        , ..., 268.        ,\n",
              "          4.        ,   1.        ],\n",
              "       ...,\n",
              "       [  1.38629436,   0.        ,   0.        , ..., 660.        ,\n",
              "          3.        ,   1.        ],\n",
              "       [  2.99573227,   0.        ,   1.        , ..., 506.        ,\n",
              "          1.        ,   1.        ],\n",
              "       [  2.30258509,   1.        ,   0.        , ..., 461.        ,\n",
              "          4.        ,   0.        ]])"
            ]
          },
          "metadata": {},
          "execution_count": 77
        }
      ]
    },
    {
      "cell_type": "code",
      "source": [
        "X_train,X_test,y_train,y_test = model_selection.train_test_split(X_encoded, y, test_size = 0.3, random_state = 123)\n",
        "\n",
        "print(X_train.shape,X_test.shape,y_train.shape,y_test.shape)"
      ],
      "metadata": {
        "colab": {
          "base_uri": "https://localhost:8080/"
        },
        "id": "m7dTO15fgxlF",
        "outputId": "7c18ff6e-3266-4b88-ea43-7c5a61661e48"
      },
      "execution_count": 78,
      "outputs": [
        {
          "output_type": "stream",
          "name": "stdout",
          "text": [
            "(67397, 12) (28885, 12) (67397,) (28885,)\n"
          ]
        }
      ]
    },
    {
      "cell_type": "markdown",
      "source": [
        "**Linear Regression**"
      ],
      "metadata": {
        "id": "EDORlbhGLOmo"
      }
    },
    {
      "cell_type": "code",
      "source": [
        "# Fitting Simple Linear Regression to the Training set\n",
        "from sklearn.linear_model import LinearRegression\n",
        "regressor = LinearRegression()\n",
        "regressor.fit(X_train, y_train)"
      ],
      "metadata": {
        "colab": {
          "base_uri": "https://localhost:8080/"
        },
        "id": "U97cd87og1xy",
        "outputId": "709d5294-fffe-4f99-a294-9a5b472fc866"
      },
      "execution_count": 79,
      "outputs": [
        {
          "output_type": "execute_result",
          "data": {
            "text/plain": [
              "LinearRegression()"
            ]
          },
          "metadata": {},
          "execution_count": 79
        }
      ]
    },
    {
      "cell_type": "code",
      "source": [
        "# Predicting the Test set results\n",
        "y_pred = regressor.predict(X_test)\n",
        "y_pred"
      ],
      "metadata": {
        "colab": {
          "base_uri": "https://localhost:8080/"
        },
        "id": "6aRXs_nPg4F8",
        "outputId": "50aaa855-ad9b-4589-bbbf-6679e79e587c"
      },
      "execution_count": 80,
      "outputs": [
        {
          "output_type": "execute_result",
          "data": {
            "text/plain": [
              "array([3.55534806, 2.30258509, 2.19722458, ..., 1.09861229, 2.30258509,\n",
              "       3.73766962])"
            ]
          },
          "metadata": {},
          "execution_count": 80
        }
      ]
    },
    {
      "cell_type": "code",
      "source": [
        "from sklearn.metrics import mean_squared_error, r2_score\n",
        "\n",
        "y_pred_train = regressor.predict(X_train)\n",
        "y_pred_train\n",
        "rmse_train = np.sqrt(mean_squared_error(y_train, y_pred_train))\n",
        "print(\"RMSE Train: \", rmse_train)\n",
        "score_train = r2_score(y_train,y_pred_train)\n",
        "print(\"Train score: \", score_train)"
      ],
      "metadata": {
        "colab": {
          "base_uri": "https://localhost:8080/"
        },
        "id": "zzs38AEzg9A7",
        "outputId": "8fe78df3-1315-411e-b05e-b3ccef951748"
      },
      "execution_count": 83,
      "outputs": [
        {
          "output_type": "stream",
          "name": "stdout",
          "text": [
            "RMSE Train:  4.163428310936365e-13\n",
            "Train score:  1.0\n"
          ]
        }
      ]
    },
    {
      "cell_type": "markdown",
      "source": [
        "**RandomForestRegressor**"
      ],
      "metadata": {
        "id": "uY-_kwVsL4Lz"
      }
    },
    {
      "cell_type": "code",
      "source": [
        "from sklearn.ensemble import RandomForestRegressor\n",
        "rfr = RandomForestRegressor(max_depth=7).fit(X_train, y_train)\n",
        "y_prediction = rfr.predict(X_test)"
      ],
      "metadata": {
        "id": "1ar3WDixNBH5"
      },
      "execution_count": 84,
      "outputs": []
    },
    {
      "cell_type": "code",
      "source": [
        "from sklearn.metrics import mean_squared_error, r2_score\n",
        "\n",
        "y_pred_train = rfr.predict(X_train)\n",
        "y_pred_train\n",
        "rmse_train = np.sqrt(mean_squared_error(y_train, y_pred_train))\n",
        "print(\"RMSE Train: \", rmse_train)\n",
        "score_train = r2_score(y_train,y_pred_train)\n",
        "print(\"Train score: \", score_train)"
      ],
      "metadata": {
        "colab": {
          "base_uri": "https://localhost:8080/"
        },
        "id": "63q0zqqaNxv2",
        "outputId": "a9e9f615-96ef-47ab-81fe-6f8f166b0f6f"
      },
      "execution_count": 85,
      "outputs": [
        {
          "output_type": "stream",
          "name": "stdout",
          "text": [
            "RMSE Train:  0.0010560013688945562\n",
            "Train score:  0.9999974182942815\n"
          ]
        }
      ]
    },
    {
      "cell_type": "markdown",
      "source": [
        "**KNNRegressor**"
      ],
      "metadata": {
        "id": "GDT1EIOmNBeB"
      }
    },
    {
      "cell_type": "code",
      "source": [
        "from sklearn import neighbors\n",
        "from sklearn.model_selection import GridSearchCV\n",
        "params = {'n_neighbors':[2,3,4,5,6,7,8,9]}\n",
        "\n",
        "knn = neighbors.KNeighborsRegressor()\n",
        "\n",
        "model = GridSearchCV(knn, params, cv=5)\n",
        "model.fit(X_train,y_train)\n",
        "model.best_params_"
      ],
      "metadata": {
        "colab": {
          "base_uri": "https://localhost:8080/"
        },
        "id": "gg_Zw9AdNGEZ",
        "outputId": "d682b01b-c975-4340-a595-3cc2eac4a6f8"
      },
      "execution_count": 98,
      "outputs": [
        {
          "output_type": "execute_result",
          "data": {
            "text/plain": [
              "{'n_neighbors': 3}"
            ]
          },
          "metadata": {},
          "execution_count": 98
        }
      ]
    },
    {
      "cell_type": "code",
      "source": [
        "model = neighbors.KNeighborsRegressor(n_neighbors = 3)\n",
        "model.fit(X_train, y_train)\n",
        "pred=model.predict(X_test)"
      ],
      "metadata": {
        "id": "EcfvjdO7QTth"
      },
      "execution_count": 99,
      "outputs": []
    },
    {
      "cell_type": "code",
      "source": [
        "y_pred_train = model.predict(X_train)\n",
        "y_pred_train\n",
        "rmse_train = np.sqrt(mean_squared_error(y_train, y_pred_train))\n",
        "print(\"RMSE Train: \", rmse_train)\n",
        "score_train = r2_score(y_train,y_pred_train)\n",
        "print(\"Train score: \", score_train)"
      ],
      "metadata": {
        "colab": {
          "base_uri": "https://localhost:8080/"
        },
        "id": "bXVacPAJQf_1",
        "outputId": "24c2d7ea-28db-4fbb-d527-95d3a8b4b14e"
      },
      "execution_count": 100,
      "outputs": [
        {
          "output_type": "stream",
          "name": "stdout",
          "text": [
            "RMSE Train:  0.22929065318902356\n",
            "Train score:  0.8782832136254148\n"
          ]
        }
      ]
    },
    {
      "cell_type": "markdown",
      "source": [
        "**MLPRegressor**"
      ],
      "metadata": {
        "id": "U4jLMkPUNGYc"
      }
    },
    {
      "cell_type": "code",
      "source": [
        "from sklearn.neural_network import MLPRegressor\n",
        "from sklearn.datasets import make_regression\n",
        "\n",
        "regr = MLPRegressor(random_state=1, max_iter=500).fit(X_train, y_train)\n",
        "y_prediction = regr.predict(X_test)"
      ],
      "metadata": {
        "id": "_qnlNF4IOKCQ"
      },
      "execution_count": 89,
      "outputs": []
    },
    {
      "cell_type": "code",
      "source": [
        "y_pred_train = regr.predict(X_train)\n",
        "y_pred_train\n",
        "rmse_train = np.sqrt(mean_squared_error(y_train, y_pred_train))\n",
        "print(\"RMSE Train: \", rmse_train)\n",
        "score_train = r2_score(y_train,y_pred_train)\n",
        "print(\"Train score: \", score_train)"
      ],
      "metadata": {
        "colab": {
          "base_uri": "https://localhost:8080/"
        },
        "id": "9KQF3MuNOPcB",
        "outputId": "61f5e1a8-5734-4df4-ed6b-9c68bcfbceaf"
      },
      "execution_count": 93,
      "outputs": [
        {
          "output_type": "stream",
          "name": "stdout",
          "text": [
            "RMSE Train:  0.028799910493034084\n",
            "Train score:  0.9980797399336777\n"
          ]
        }
      ]
    },
    {
      "cell_type": "markdown",
      "source": [
        "### **MullerLoop using same algorithms**"
      ],
      "metadata": {
        "id": "TTUK5bF_pbAg"
      }
    },
    {
      "cell_type": "code",
      "source": [
        "names = [\"LinearRegression\", \"RandomForestRegressor\", \"neighbors\", \"MLPRegressor\"]"
      ],
      "metadata": {
        "id": "wOO9YDMrpffQ"
      },
      "execution_count": 101,
      "outputs": []
    },
    {
      "cell_type": "code",
      "source": [
        "regressors = [\n",
        "    LinearRegression(),\n",
        "    RandomForestRegressor(max_depth=7),\n",
        "    neighbors.KNeighborsRegressor(n_neighbors = 3),\n",
        "    MLPRegressor(random_state=1, max_iter=500)]"
      ],
      "metadata": {
        "id": "z5C64O4ypyNa"
      },
      "execution_count": 102,
      "outputs": []
    },
    {
      "cell_type": "code",
      "source": [
        "max_score = 0.0\n",
        "max_class = ''\n",
        "# iterate over classifiers\n",
        "for name, rgs in zip(names, regressors):\n",
        "    rgs.fit(X_train, y_train)\n",
        "    score = 100.0 * rgs.score(X_test, y_test)\n",
        "    print('Regressor = %s, Score (test, accuracy) = %.2f,' %(name, score))\n",
        "    \n",
        "    if score > max_score:\n",
        "        clf_best = rgs\n",
        "        max_score = score\n",
        "        max_class = name\n",
        "\n",
        "print(80*'-' )\n",
        "print('Best --> Regressor = %s, Score (test, accuracy) = %.2f' %(max_class, max_score))\n",
        "#plot the output of the various algorithms"
      ],
      "metadata": {
        "colab": {
          "base_uri": "https://localhost:8080/"
        },
        "id": "xnTh6pvYqQf5",
        "outputId": "3336e308-651a-4f5f-adec-7464e1e9f8b7"
      },
      "execution_count": 104,
      "outputs": [
        {
          "output_type": "stream",
          "name": "stdout",
          "text": [
            "Regressor = LinearRegression, Score (test, accuracy) = 100.00,\n",
            "Regressor = RandomForestRegressor, Score (test, accuracy) = 100.00,\n",
            "Regressor = neighbors, Score (test, accuracy) = 72.99,\n",
            "Regressor = MLPRegressor, Score (test, accuracy) = 99.81,\n",
            "--------------------------------------------------------------------------------\n",
            "Best --> Regressor = LinearRegression, Score (test, accuracy) = 100.00\n"
          ]
        }
      ]
    }
  ]
}